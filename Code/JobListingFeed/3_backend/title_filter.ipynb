{
 "cells": [
  {
   "cell_type": "code",
   "execution_count": 1,
   "metadata": {},
   "outputs": [
    {
     "data": {
      "text/plain": [
       "'\\nInput: Job title keywords, location keywords, more to add in the future\\n\\nOutput: A list of job postings feeds, format to be determined\\n\\nclean:\\n    remove duplicates (a job may be posted on multiple sites)\\n    remove unrelated jobs (feed may contain jobs that are not related to the keywords, we need a classifier)\\n    put the feed into a suitable format (json, with fields like title, company, location, description, url, etc.)\\n\\nstore:\\n    store the feed in a txt file in preliminary version\\n\\nAt end of the program, it should consolidate all the feeds and store them in jason format, report with number of jobs found, \\nand save the feeds in a txt file\\n\\n'"
      ]
     },
     "execution_count": 1,
     "metadata": {},
     "output_type": "execute_result"
    }
   ],
   "source": [
    "# Steps of the job crawler component\n",
    "\n",
    "'''\n",
    "Input: Job title keywords, location keywords, more to add in the future\n",
    "\n",
    "Output: A list of job postings feeds, format to be determined\n",
    "\n",
    "clean:\n",
    "    remove duplicates (a job may be posted on multiple sites)\n",
    "    remove unrelated jobs (feed may contain jobs that are not related to the keywords, we need a classifier)\n",
    "    put the feed into a suitable format (json, with fields like title, company, location, description, url, etc.)\n",
    "\n",
    "store:\n",
    "    store the feed in a txt file in preliminary version\n",
    "\n",
    "At end of the program, it should consolidate all the feeds and store them in jason format, report with number of jobs found, \n",
    "and save the feeds in a txt file\n",
    "\n",
    "'''"
   ]
  },
  {
   "cell_type": "code",
   "execution_count": 2,
   "metadata": {},
   "outputs": [],
   "source": [
    "### Import libraries\n",
    "import pandas as pd"
   ]
  },
  {
   "cell_type": "code",
   "execution_count": 3,
   "metadata": {},
   "outputs": [
    {
     "name": "stdout",
     "output_type": "stream",
     "text": [
      "       job_id  company_id                                              title  \\\n",
      "0  3757940104    553718.0                              Hearing Care Provider   \n",
      "1  3757940025   2192142.0  Shipping & Receiving Associate 2nd shift (Beav...   \n",
      "2  3757938019    474443.0                               Manager, Engineering   \n",
      "3  3757938018  18213359.0                                               Cook   \n",
      "4  3757937095    437225.0        Principal Cloud Security Architect (Remote)   \n",
      "\n",
      "                                         description  max_salary  med_salary  \\\n",
      "0  Overview\\n\\nHearingLife is a national hearing ...         NaN     5250.00   \n",
      "1  Metalcraft of Mayville\\nMetalcraft of Mayville...         NaN         NaN   \n",
      "2  \\nThe TSUBAKI name is synonymous with excellen...         NaN         NaN   \n",
      "3  descriptionTitle\\n\\n Looking for a great oppor...         NaN       22.27   \n",
      "4  Job Summary\\nAt iHerb, we are on a mission to ...    275834.0         NaN   \n",
      "\n",
      "   min_salary pay_period formatted_work_type          location  ...  \\\n",
      "0         NaN    MONTHLY           Full-time  Little River, SC  ...   \n",
      "1         NaN        NaN           Full-time    Beaver Dam, WI  ...   \n",
      "2         NaN        NaN           Full-time      Bessemer, AL  ...   \n",
      "3         NaN     HOURLY           Full-time   Aliso Viejo, CA  ...   \n",
      "4    205956.0     YEARLY           Full-time     United States  ...   \n",
      "\n",
      "   closed_time  formatted_experience_level  \\\n",
      "0          NaN                 Entry level   \n",
      "1          NaN                         NaN   \n",
      "2          NaN                         NaN   \n",
      "3          NaN                 Entry level   \n",
      "4          NaN            Mid-Senior level   \n",
      "\n",
      "                                         skills_desc   listed_time  \\\n",
      "0                                                NaN  1.699090e+12   \n",
      "1                                                NaN  1.699080e+12   \n",
      "2  Bachelor's Degree in Mechanical Engineering pr...  1.699080e+12   \n",
      "3                                                NaN  1.699080e+12   \n",
      "4                                                NaN  1.699090e+12   \n",
      "\n",
      "             posting_domain sponsored  work_type  currency  compensation_type  \\\n",
      "0  careers-demant.icims.com         0  FULL_TIME       USD        BASE_SALARY   \n",
      "1       www.click2apply.net         0  FULL_TIME       NaN                NaN   \n",
      "2       www.click2apply.net         0  FULL_TIME       NaN                NaN   \n",
      "3           jobs.apploi.com         0  FULL_TIME       USD        BASE_SALARY   \n",
      "4         careers.iherb.com         0  FULL_TIME       USD        BASE_SALARY   \n",
      "\n",
      "      scraped  \n",
      "0  1699138101  \n",
      "1  1699085420  \n",
      "2  1699085644  \n",
      "3  1699087461  \n",
      "4  1699085346  \n",
      "\n",
      "[5 rows x 28 columns]\n"
     ]
    }
   ],
   "source": [
    "job_dataset_path = '../../../Data/job_listing_kaggle_dataset/job_postings.csv'\n",
    "job_dataset = pd.read_csv(job_dataset_path)\n",
    "print(job_dataset.head())"
   ]
  },
  {
   "cell_type": "code",
   "execution_count": 4,
   "metadata": {},
   "outputs": [
    {
     "name": "stdout",
     "output_type": "stream",
     "text": [
      "Index(['job_id', 'company_id', 'title', 'description', 'max_salary',\n",
      "       'med_salary', 'min_salary', 'pay_period', 'formatted_work_type',\n",
      "       'location', 'applies', 'original_listed_time', 'remote_allowed',\n",
      "       'views', 'job_posting_url', 'application_url', 'application_type',\n",
      "       'expiry', 'closed_time', 'formatted_experience_level', 'skills_desc',\n",
      "       'listed_time', 'posting_domain', 'sponsored', 'work_type', 'currency',\n",
      "       'compensation_type', 'scraped'],\n",
      "      dtype='object')\n"
     ]
    }
   ],
   "source": [
    "# check column heads\n",
    "print(job_dataset.columns)"
   ]
  },
  {
   "cell_type": "code",
   "execution_count": 5,
   "metadata": {},
   "outputs": [
    {
     "name": "stdout",
     "output_type": "stream",
     "text": [
      "Hearing Care Provider\n"
     ]
    }
   ],
   "source": [
    "# check 'title' column 1st row\n",
    "print(job_dataset['title'][0])"
   ]
  },
  {
   "cell_type": "code",
   "execution_count": 6,
   "metadata": {},
   "outputs": [
    {
     "name": "stdout",
     "output_type": "stream",
     "text": [
      "Overview\n",
      "\n",
      "HearingLife is a national hearing care company and part of the Demant Group, a global leader in hearing healthcare built on a heritage of care, health, and innovation since 1904. HearingLife operates more than 600 hearing care centers across 42 states. We follow a scientific, results-oriented approach to hearing healthcare that is provided by highly skilled and caring professionals. Our vision is to help more people hear better through life-changing hearing health delivered by the best personalized care. This Team Member must uphold the HearingLife Core Values:\n",
      "\n",
      " We create trust  We are team players  We apply a can-do attitude  We create innovative solutions \n",
      "\n",
      "Responsibilities\n",
      "\n",
      "You will help more people hear better by providing clinical expertise to diagnose and treat hearing loss while ensuring a positive patient experience. The Hearing Care Provider acts in accordance with required industry and state professional licensing standards and local practice scope and is responsible for growing and maintaining the practice. This includes achieving all financial goals as well as offering best in class modern hearing healthcare assessment and treatment. The Hearing Care Provider is responsible for creating an exceptional patient journey through patient care and appropriate treatment options.\n",
      "\n",
      " Provide quality care and aftercare of dispensing services such as hearing tests, hearing aid fittings, educate and train hearing aid users of best practices.  Perform checks on hearing aids and other amplification devices including but not limited to troubleshooting, conducting repairs to hearing aids, earmolds and cleaning of hearing aids.  Achieves growth with a strong mindset on sales and key business metrics while focusing on providing quality patient care.  Continuously develop a relationship with local community leaders by representing HearingLife as an advocate to making a life changing difference.  Ensure clinic inventory meets a sustainable level to drive business including accurate recordkeeping of inventory.  Support Telehealth initiatives (Remote Care) to expand patient care and product portfolio including but not limited conducting hearing tests, coach and educate patients on hearing aid devices. \n",
      "\n",
      "Qualifications\n",
      "\n",
      " Maintain an active Hearing Aid Dispensing License in accordance with state requirements.  A minimum of two years of professional experience; previous experience in selling hearing aids in an Audiology/dispensing practice. In lieu of two years of experience, demonstrated previous experience or training or equivalent combination of education and experience.  Maintain continuing education requirements based on state requirements.  Ability to operate audiometric equipment and to interpret the results.  Exceptional critical thinking skills to analyze patient’s situation.  Excellent interpersonal skills to engage and motivate patients and third parties.  Skill in handling sensitive matters and patients with tact, courtesy, and discretion.  Demonstrated ability to manage multiple tasks efficiently, including determining priorities, organizing work, and working independently in a fast-paced environment.  Ability to communicate test results and interpret and propose treatment in a manner easily understood by patients. \n",
      "\n",
      "🌴 Unwind with Paid Time Off: We value work-life balance. Enjoy company-paid holidays, floating holidays, and more!\n",
      "\n",
      "💼 Flexible Work Dynamics: Experience the future of work with numerous hybrid and remote opportunities tailored for the modern professional.\n",
      "\n",
      "🌟 Comprehensive Health Benefits: Choose from a diverse range of health insurance plans covering medical, dental, vision, and HSA. Your well-being is our priority.\n",
      "\n",
      "💰 Invest in Your Future: With our competitive 401(k) Program, your future looks bright.\n",
      "\n",
      "🎁 Exclusive Discounts & Programs: Get special discounts on our products, including hearing aids, for both family and possibly friends. Plus, take advantage of our Employee and Family Purchase Hearing Aid program.\n",
      "\n",
      "🚀 Boundless Growth Opportunities\n",
      "\n",
      " DMIT Program: Dive deep into management insights.  Apprentice Program: Learn from the best in the field.  Amplify Leadership Program: Get one-on-one guidance and real-world exposure to grow and excel as a Leader. \n",
      "\n",
      "❤️ A Thriving, Positive Environment: We live our C ore V alues : We C reate T rust, W e are T eam P layers, W e A pply a C an- D o A ttitude and We C reate I nnovative S olutions.\n",
      "\n",
      "📚 Empower Your Ambitions: Avail up to $5250 annually with our Education Expense Reimbursement. Keep learning, keep growing!\n",
      "\n",
      "🤝 Refer & Earn: Know someone perfect for the team? Our Team Member Referral Program rewards you with up to $3500 per hire, depending on the role.\n",
      "\n",
      "🛡️ Protection for the Unexpected: Enjoy peace of mind with our basic life and AD&D insurance, as well as short-term disability insurance.\n",
      "\n",
      "Come be part of a team where every day brings new challenges, learning, and the opportunity to make a difference. Join us!\n",
      "\n",
      "We are an Equal Opportunity / Affirmative Action employer, all qualified applicants will receive consideration for employment\n",
      "\n",
      "without regard to race, color, religion, sexual orientation, sex, national origin, disability, or protected veteran status.\n",
      "\n",
      "#HearingLife_US\n",
      "\n",
      "\n"
     ]
    }
   ],
   "source": [
    "print(job_dataset['description'][0])"
   ]
  },
  {
   "cell_type": "code",
   "execution_count": 7,
   "metadata": {},
   "outputs": [
    {
     "name": "stdout",
     "output_type": "stream",
     "text": [
      "job_id                                                               3757930799\n",
      "company_id                                                           78708714.0\n",
      "title                                                        Imaging Supervisor\n",
      "description                   Imaging Supervisor- Radiology Clinical Support...\n",
      "max_salary                                                             190000.0\n",
      "med_salary                                                                  NaN\n",
      "min_salary                                                             100000.0\n",
      "pay_period                                                               YEARLY\n",
      "formatted_work_type                                                   Full-time\n",
      "location                                                             Orange, CA\n",
      "applies                                                                     2.0\n",
      "original_listed_time                                            1699080000000.0\n",
      "remote_allowed                                                              NaN\n",
      "views                                                                      13.0\n",
      "job_posting_url               https://www.linkedin.com/jobs/view/3757930799/...\n",
      "application_url                                                             NaN\n",
      "application_type                                             ComplexOnsiteApply\n",
      "expiry                                                          1701670000000.0\n",
      "closed_time                                                                 NaN\n",
      "formatted_experience_level                                     Mid-Senior level\n",
      "skills_desc                                                                 NaN\n",
      "listed_time                                                     1699080000000.0\n",
      "posting_domain                                                              NaN\n",
      "sponsored                                                                     0\n",
      "work_type                                                             FULL_TIME\n",
      "currency                                                                    USD\n",
      "compensation_type                                                   BASE_SALARY\n",
      "scraped                                                              1699134111\n",
      "Name: 100, dtype: object\n"
     ]
    }
   ],
   "source": [
    "# check 100th row job all info\n",
    "print(job_dataset.iloc[100])"
   ]
  },
  {
   "cell_type": "code",
   "execution_count": 34,
   "metadata": {},
   "outputs": [],
   "source": [
    "# important columns: title, description, location, "
   ]
  },
  {
   "cell_type": "code",
   "execution_count": 8,
   "metadata": {},
   "outputs": [],
   "source": [
    "# check location\n",
    "\n",
    "import re\n",
    "# Define the regex pattern to match \"city, state\" or \"United States\"\n",
    "pattern = re.compile(r\"[a-zA-Z\\s]*,[A-Z]*|[Uu]nited [Ss]tates\")\n",
    "\n",
    "# Create a new column to store the cleaned location\n",
    "job_dataset['cleaned_location'] = None\n",
    "\n",
    "# create a new column to store the cleaned location\n",
    "for i in range(len(job_dataset)):\n",
    "    location = job_dataset['location'][i]\n",
    "    if not pattern.match(location):\n",
    "        location = 'United States'\n",
    "    \n",
    "    # create a new column to store the cleaned location\n",
    "    job_dataset.loc[i, 'cleaned_location'] = location"
   ]
  },
  {
   "cell_type": "code",
   "execution_count": 9,
   "metadata": {},
   "outputs": [
    {
     "name": "stdout",
     "output_type": "stream",
     "text": [
      "Title: Senior Sales Manager, Job IDs: [3757495433, 3756148719, 3699062061, 3693050755, 3693047061], Similarity: 1.0\n",
      "Title: Sales Operations Senior Manager, Job IDs: [3749346422], Similarity: 0.9269579648971558\n",
      "Title: Senior National Sales Manager, Job IDs: [3755597256, 3693596707], Similarity: 0.9164255857467651\n",
      "Title: Senior Sales Executive, Job IDs: [3757407170], Similarity: 0.9043762683868408\n",
      "Title:  Senior Sales Executive, Job IDs: [3757455012], Similarity: 0.9043762683868408\n",
      "Title: Sales Manager, Job IDs: [3757935001, 3757934264, 3757934178, 3757934003, 3757933435, 3757933252, 3757932799, 3757932736, 3757932471, 3757932015, 3757931774, 3757931759, 3757931738, 3757931730, 3757931721, 3757931720, 3757931640, 3757931639, 3757931596, 3757930887, 3757930873, 3757930215, 3757930108, 3757929959, 3757929921, 3757929797, 3757929630, 3757928987, 3757928981, 3757928980, 3757928954, 3757928953, 3757928939, 3757927968, 3757927949, 3757927940, 3757927855, 3757927838, 3757927797, 3757924400, 3757924397, 3757923657, 3757923650, 3757923408, 3757922739, 3757922476, 3757921570, 3757919585, 3757758610, 3757732611, 3757494248, 3757492361, 3757492052, 3757451095, 3757406934, 3756176643, 3755597372, 3755596256, 3755558810, 3755193419, 3749358217, 3749355380, 3749347137, 3748841566, 3727230862, 3701373385, 3701371556, 3701369773, 3701324722, 3701321925, 3701316102, 3701315401, 3700557041, 3700557016, 3700555493, 3700555490, 3700552890, 3700552264, 3700551940, 3700551891, 3700551320, 3700551319, 3700550924, 3700550327, 3700550306, 3700548550, 3700546912, 3699416276, 3699088293, 3699088292, 3699084697, 3699082547, 3694120551, 3694115570, 3694111111, 3694104290, 3693064764, 3693049649, 133114754], Similarity: 0.8790270090103149\n",
      "Title: Senior Sales Director, Job IDs: [3748839452], Similarity: 0.8783187866210938\n",
      "Title: Senior Commercial Sales Manager , Job IDs: [3693585903], Similarity: 0.8751189708709717\n",
      "Title: Senior Sales Engineer, Job IDs: [3693069551], Similarity: 0.867820143699646\n",
      "Title: Senior Manager, Sales Enablement and Development, Job IDs: [3693050288], Similarity: 0.8517000675201416\n",
      "Title: Senior Sales Representative, Job IDs: [3749354655, 3748840826], Similarity: 0.8510838747024536\n",
      "Title: Sales Team Manager, Job IDs: [3699404368], Similarity: 0.8303831815719604\n",
      "Title: Senior Business Manager, Job IDs: [3749905424], Similarity: 0.8195794820785522\n",
      "Title: Senior Professional, Sales Enablement, Job IDs: [3697378826], Similarity: 0.8187574148178101\n",
      "Title: Retail Sales Manager, Job IDs: [3694110254, 3694107983, 3693054093, 3693051506], Similarity: 0.8138284683227539\n",
      "Title: Corporate Sales Manager, Job IDs: [3749346227], Similarity: 0.8136816620826721\n",
      "Title: Sales Executive, Job IDs: [3757932732, 3757932339, 3757737660, 3757493010, 3756161181, 3749349061, 3749347531, 3749347194, 3701308748, 3699402320, 3697380583, 3694124168, 3694122548, 3694106971, 3693047825, 3693047166, 3693042971, 3655683358, 3564601168], Similarity: 0.8115050196647644\n",
      "Title: Senior Enterprise Sales Director, Job IDs: [3701300470], Similarity: 0.806097686290741\n",
      "Title: Senior Manager, Job IDs: [3757727686, 3693049684], Similarity: 0.8048714399337769\n",
      "Title: Residential Sales Manager, Job IDs: [3693050846], Similarity: 0.8043211698532104\n"
     ]
    }
   ],
   "source": [
    "from sentence_transformers import SentenceTransformer, util\n",
    "import numpy as np\n",
    "from collections import defaultdict\n",
    "\n",
    "# Create a mapping from titles to a list of job IDs\n",
    "title_to_job_ids = defaultdict(list)\n",
    "for i in range(len(job_dataset)):\n",
    "    title = job_dataset['title'][i]\n",
    "    job_id = job_dataset['job_id'][i]\n",
    "    title_to_job_ids[title].append(job_id)\n",
    "\n",
    "# Load the pre-trained model\n",
    "model = SentenceTransformer('sentence-transformers/all-MiniLM-L6-v2')\n",
    "\n",
    "# Assume `unique_titles` is a list of unique job titles from your dataset\n",
    "unique_titles = list(set(job_dataset['title']))  # Remove duplicates\n",
    "\n",
    "# Generate embeddings for all unique titles\n",
    "title_embeddings = model.encode(unique_titles, convert_to_tensor=True)\n",
    "\n",
    "def find_most_similar_titles(query_title, title_embeddings, unique_titles, title_to_job_ids, top_n=20):\n",
    "    # Encode the query title\n",
    "    query_embedding = model.encode(query_title, convert_to_tensor=True)\n",
    "    \n",
    "    # Compute cosine similarities\n",
    "    cosine_scores = util.pytorch_cos_sim(query_embedding, title_embeddings)[0]\n",
    "\n",
    "    # Find the highest scores\n",
    "    top_indices = np.argpartition(-cosine_scores, range(top_n))[:top_n]\n",
    "\n",
    "    # Retrieve the corresponding titles and their job IDs\n",
    "    similar_titles_and_ids = [(unique_titles[index], title_to_job_ids[unique_titles[index]], cosine_scores[index].item()) for index in top_indices]\n",
    "\n",
    "    return similar_titles_and_ids\n",
    "\n",
    "# Example usage\n",
    "query_title = \"Senior Sales Manager\"\n",
    "similar_titles_and_ids = find_most_similar_titles(query_title, title_embeddings, unique_titles, title_to_job_ids)\n",
    "\n",
    "# Print the results\n",
    "for title, job_ids, score in similar_titles_and_ids:\n",
    "    print(f\"Title: {title}, Job IDs: {job_ids}, Similarity: {score}\")\n"
   ]
  }
 ],
 "metadata": {
  "kernelspec": {
   "display_name": "OpenAI",
   "language": "python",
   "name": "python3"
  },
  "language_info": {
   "codemirror_mode": {
    "name": "ipython",
    "version": 3
   },
   "file_extension": ".py",
   "mimetype": "text/x-python",
   "name": "python",
   "nbconvert_exporter": "python",
   "pygments_lexer": "ipython3",
   "version": "3.9.18"
  }
 },
 "nbformat": 4,
 "nbformat_minor": 2
}
