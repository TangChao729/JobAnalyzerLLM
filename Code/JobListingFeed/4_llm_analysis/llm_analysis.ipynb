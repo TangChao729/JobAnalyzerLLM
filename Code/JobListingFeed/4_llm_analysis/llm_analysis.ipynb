{
 "cells": [
  {
   "cell_type": "code",
   "execution_count": 3,
   "metadata": {},
   "outputs": [],
   "source": [
    "from openai import OpenAI"
   ]
  },
  {
   "cell_type": "code",
   "execution_count": null,
   "metadata": {},
   "outputs": [],
   "source": [
    "# read api key from .env file\n",
    "with open('../../../Local_data/gpt_key.txt', 'r') as f:\n",
    "    api_key = f.read().strip()"
   ]
  },
  {
   "cell_type": "code",
   "execution_count": 6,
   "metadata": {},
   "outputs": [
    {
     "name": "stdout",
     "output_type": "stream",
     "text": [
      "ChatCompletionMessage(content=\"In the realm of code, where logic takes flight,\\nA concept emerges, mysterious and bright.\\nRecursion, it's called, a looping affair,\\nUnfolding dimensions, layers that ensnare.\\n\\nImagine a mirror reflecting your reflection,\\nA dance of patterns, a recursive connection.\\nA function calling itself, again and again,\\nA journey through loops, a labyrinth to befriend.\\n\\nLike a Matryoshka doll, nested one inside,\\nRecursion unwraps, where secrets reside.\\nWith each step, a new world takes its place,\\nA recursive journey, through time and space.\\n\\nJust like a Fibonacci, spiraling design,\\nRecursion unfolds, constant and divine.\\nWith elegance and grace, it conquers the sublime,\\nA tool in the programmer's arsenal, so fine.\\n\\nFrom trees expanding, branches entwined,\\nTo solving mazes, with paths undefined.\\nRecursion unfolds these mysteries untold,\\nThrough the power of patterns, in code it's behold.\\n\\nBut tread with caution, this dance of repetition,\\nWithout an end, lies infinite ambition.\\nA base case to halt, the cycle's spin,\\nFor recursion, uncontrolled, is a perilous sin.\\n\\nSo embrace this concept, in all its allure,\\nUnlocking the secrets, that it holds pure.\\nRecursion, a muse, in the programmer's hand,\\nA symphony of code, where complexities expand.\", role='assistant', function_call=None, tool_calls=None)\n"
     ]
    }
   ],
   "source": [
    "client = OpenAI(\n",
    "    api_key=api_key,\n",
    ")\n",
    "\n",
    "completion = client.chat.completions.create(\n",
    "  model=\"gpt-3.5-turbo\",\n",
    "  messages=[\n",
    "    {\"role\": \"system\", \"content\": \"You are a professional assistant, skilled in Analyzing and summarizing job posting.\"},\n",
    "    {\"role\": \"user\", \"content\": \"Analyze the key qualification and skills needed for each of the following job, summarize your analyzation in this format:.\"}\n",
    "  ]\n",
    ")\n",
    "\n",
    "print(completion.choices[0].message)"
   ]
  },
  {
   "cell_type": "code",
   "execution_count": null,
   "metadata": {},
   "outputs": [],
   "source": [
    "JobIDs = [3757733119, 3757722920, 3757709060, 3757495140, 3757490630, 3757462041, 3757461432, 3757459741, 3757453067, 3757442260, 3757436744, 3756116362, 3756108503, 3754939634, 3699085103, 3697391430, 3697390531, 3697388794, 3697387964, 3697341474, 3693583847, 3693053166, 3693052150, 3693045603]"
   ]
  },
  {
   "cell_type": "code",
   "execution_count": null,
   "metadata": {},
   "outputs": [],
   "source": []
  }
 ],
 "metadata": {
  "kernelspec": {
   "display_name": "OpenAI",
   "language": "python",
   "name": "python3"
  },
  "language_info": {
   "codemirror_mode": {
    "name": "ipython",
    "version": 3
   },
   "file_extension": ".py",
   "mimetype": "text/x-python",
   "name": "python",
   "nbconvert_exporter": "python",
   "pygments_lexer": "ipython3",
   "version": "3.9.18"
  }
 },
 "nbformat": 4,
 "nbformat_minor": 2
}
