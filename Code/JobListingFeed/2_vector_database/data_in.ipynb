{
 "cells": [
  {
   "cell_type": "code",
   "execution_count": 27,
   "metadata": {},
   "outputs": [
    {
     "name": "stdout",
     "output_type": "stream",
     "text": [
      "{'acknowledged': True, 'index': 'dummy_index'}\n"
     ]
    }
   ],
   "source": [
    "### Import libraries\n",
    "import pandas as pd\n",
    "import json\n",
    "import marqo\n",
    "\n",
    "mq = marqo.Client(url='http://192.168.31.45:8882')\n",
    "index_name = 'dummy_index'\n",
    "results = mq.create_index(index_name)\n",
    "print(results)"
   ]
  },
  {
   "cell_type": "code",
   "execution_count": 11,
   "metadata": {},
   "outputs": [
    {
     "data": {
      "text/plain": [
       "{'numberOfDocuments': 7,\n",
       " 'numberOfVectors': 0,\n",
       " 'backend': {'memoryUsedPercentage': 1.96062032196,\n",
       "  'storageUsedPercentage': 46.06138791785}}"
      ]
     },
     "execution_count": 11,
     "metadata": {},
     "output_type": "execute_result"
    }
   ],
   "source": [
    "# results = mq.index(index_name).get_stats()\n",
    "# results"
   ]
  },
  {
   "cell_type": "code",
   "execution_count": 3,
   "metadata": {},
   "outputs": [],
   "source": [
    "# job_dataset_path = '../../../Data/job_listing_kaggle_dataset/job_postings.csv'\n",
    "# job_dataset = pd.read_csv(job_dataset_path)\n"
   ]
  },
  {
   "cell_type": "code",
   "execution_count": null,
   "metadata": {},
   "outputs": [],
   "source": [
    "# job_dataset"
   ]
  },
  {
   "cell_type": "code",
   "execution_count": 15,
   "metadata": {},
   "outputs": [],
   "source": [
    "# # only get colmn with job title and description\n",
    "# job_dataset = job_dataset[['title', 'description']]\n"
   ]
  },
  {
   "cell_type": "code",
   "execution_count": null,
   "metadata": {},
   "outputs": [],
   "source": [
    "# # Replace None (NaN in pandas) with the string 'Null'\n",
    "# job_dataset.fillna('Not applicable', inplace=True)"
   ]
  },
  {
   "cell_type": "code",
   "execution_count": 17,
   "metadata": {},
   "outputs": [],
   "source": [
    "# # into json object, for value of None, convert to string 'Null'\n",
    "# job_dataset_json = json.loads(job_dataset.to_json(orient='records'))"
   ]
  },
  {
   "cell_type": "code",
   "execution_count": 18,
   "metadata": {},
   "outputs": [],
   "source": [
    "# dummy = job_dataset_json[0:5]"
   ]
  },
  {
   "cell_type": "code",
   "execution_count": null,
   "metadata": {},
   "outputs": [],
   "source": [
    "# for job in dummy:\n",
    "#     print(job)"
   ]
  },
  {
   "cell_type": "code",
   "execution_count": 28,
   "metadata": {},
   "outputs": [],
   "source": [
    "dummy_2 = [{\n",
    "    'title': 'Data Scientist',\n",
    "    'description': 'We are looking for a data scientist'\n",
    "},\n",
    "{'title': 'Data Engineer',\n",
    "    'description': 'We are looking for a data engineer'\n",
    "},\n",
    "{'title': 'Data Analyst',\n",
    "    'description': 'We are looking for a data analyst'\n",
    "}]\n"
   ]
  },
  {
   "cell_type": "code",
   "execution_count": 37,
   "metadata": {},
   "outputs": [
    {
     "name": "stdout",
     "output_type": "stream",
     "text": [
      "{'errors': False, 'processingTimeMs': 50.86333700455725, 'index_name': 'dummy_index', 'items': [{'status': 200, '_id': 'b3d6be29-af73-4c63-95ca-11db3e10d802'}]}\n",
      "{'errors': False, 'processingTimeMs': 35.79739900305867, 'index_name': 'dummy_index', 'items': [{'status': 200, '_id': '64ab23e1-08b0-4ce9-a1db-2669f2d63ccb'}]}\n",
      "{'errors': False, 'processingTimeMs': 29.602281996631064, 'index_name': 'dummy_index', 'items': [{'status': 200, '_id': '91aaa3eb-87cc-4a03-9fac-06377e956caa'}]}\n"
     ]
    }
   ],
   "source": [
    "for job in dummy_2:\n",
    "    title = job['title']\n",
    "    description = job['description']\n",
    "\n",
    "    print(\n",
    "        mq.index(index_name).add_documents(\n",
    "        [\n",
    "            {\n",
    "                'Title': title, \n",
    "                'Description': description,\n",
    "             },\n",
    "        ], \n",
    "\n",
    "    tensor_fields=['Description'])\n",
    "    )\n",
    "    "
   ]
  },
  {
   "cell_type": "code",
   "execution_count": 40,
   "metadata": {},
   "outputs": [
    {
     "name": "stdout",
     "output_type": "stream",
     "text": [
      "{'errors': False, 'processingTimeMs': 58.86657600058243, 'index_name': 'dummy_index', 'items': [{'status': 200, '_id': 'c37f6e49-5190-4961-9e5a-ca6a430431eb'}]}\n"
     ]
    }
   ],
   "source": [
    "\n",
    "results = mq.index(index_name).add_documents(\n",
    "    [\n",
    "        {\n",
    "            'Title': 'new data scientist', \n",
    "            'Description': 'We are looking for a data scientist',\n",
    "        },\n",
    "    ], \n",
    "\n",
    "    tensor_fields=['Description'])\n",
    "\n",
    "print(results)"
   ]
  },
  {
   "cell_type": "code",
   "execution_count": 44,
   "metadata": {},
   "outputs": [
    {
     "data": {
      "text/plain": [
       "{'errors': False,\n",
       " 'processingTimeMs': 60.75903298915364,\n",
       " 'index_name': 'dummy_index',\n",
       " 'items': [{'status': 200, '_id': '1cdb46fd-f78a-426e-a865-3a5fd135a43d'},\n",
       "  {'status': 200, '_id': 'article_591'}]}"
      ]
     },
     "execution_count": 44,
     "metadata": {},
     "output_type": "execute_result"
    }
   ],
   "source": [
    "mq.index(index_name).add_documents(\n",
    "    [\n",
    "        {\n",
    "            \"Title\": \"The Travels of Marco Polo\",\n",
    "            \"Description\": \"A 13th-century travelogue describing Polo's travels\",\n",
    "        },\n",
    "        {\n",
    "            \"Title\": \"Extravehicular Mobility Unit (EMU)\",\n",
    "            \"Description\": \"The EMU is a spacesuit that provides environmental protection, \"\n",
    "            \"mobility, life support, and communications for astronauts\",\n",
    "            \"_id\": \"article_591\",\n",
    "        },\n",
    "    ],\n",
    "    tensor_fields=[\"Description\"],\n",
    ")\n",
    "\n",
    "# results = mq.index(\"my-first-index\").search(\n",
    "#     q=\"What is the best outfit to wear on the moon?\"\n",
    "# )"
   ]
  },
  {
   "cell_type": "code",
   "execution_count": 35,
   "metadata": {},
   "outputs": [
    {
     "name": "stdout",
     "output_type": "stream",
     "text": [
      "{'numberOfDocuments': 9, 'numberOfVectors': 9, 'backend': {'memoryUsedPercentage': 2.00251497433, 'storageUsedPercentage': 46.06280549436}}\n"
     ]
    }
   ],
   "source": [
    "print(mq.index(index_name).get_stats())"
   ]
  },
  {
   "cell_type": "code",
   "execution_count": 42,
   "metadata": {},
   "outputs": [
    {
     "data": {
      "text/plain": [
       "{'hits': [{'Title': 'Full Stack Developer - API Integrations',\n",
       "   'Description': \"Full Stack Developer - API IntegrationsJob Description: Full Stack Developer (API Integrations)\\nPosition Overview:We are looking for a talented and experienced Full Stack Developer specializing in API integrations to joinour development team. As a Full Stack Developer focusing on API integrations, you will play a crucial rolein designing, developing, and maintaining seamless integrations between our systems and external APIs.You will collaborate with cross-functional teams to ensure efficient data exchange and enhance thefunctionality of our software solutions. This position reports to the Technical Lead or EngineeringManager.\\nResponsibilities:\\nAPI Integration Development:● Design and develop integrations between our systems and external APIs, ensuring reliable andsecure data exchange.● Implement API integrations using RESTful or SOAP protocols, following best practices andindustry standards.● Perform thorough testing and validation of API integrations to ensure data accuracy and systemstability.\\nBackend Development:\\n● Develop and maintain backend systems and services to support API integrations, including dataprocessing, transformation, and storage.● Implement business logic and algorithms to enable seamless data exchange and systeminteroperability.● Collaborate with the team to optimize backend performance and scalability for high-volume dataprocessing.\\nFrontend Development:\\n● Implement frontend components and interfaces to consume and display data from APIintegrations.● Develop interactive user interfaces that provide intuitive access to integrated functionalities anddata.● Ensure responsive design and cross-browser compatibility for optimal user experience.\\nAPI Documentation and Support:\\n● Create comprehensive API documentation, including endpoints, request/response formats,authentication methods, and error handling.● Provide support to internal teams and external partners in integrating with our APIs,troubleshooting issues, and ensuring successful data exchange.● Collaborate with API providers to understand their APIs, authentication mechanisms, andintegration requirements.Quality Assurance and Testing:● Collaborate with the QA team to develop and execute test plans for API integrations, ensuringproper functionality and data integrity.● Perform unit testing, integration testing, and end-to-end testing of API integrations, resolving anyidentified issues.\\nCollaboration and Communication:\\n● Collaborate with cross-functional teams, including product managers, designers, and otherdevelopers, to define integration requirements and deliver high-quality solutions.● Communicate effectively with external API providers and partners to ensure seamless integrationand data flow.● Participate in code reviews, providing constructive feedback to maintain code quality andadherence to development standards.\\nRequirementsQualifications:\\n● Bachelor's degree in Computer Science, Software Engineering, or a related field. Equivalent workexperience may be considered.● Proven experience (3+ years) as a Full Stack Developer, with a focus on API integrations.● Strong proficiency in backend development languages, such as Python, Node.js, or Java, andexperience with backend frameworks (e.g., Django, Express.js).● Solid understanding of RESTful and SOAP APIs, including authentication methods (e.g., OAuth,JWT) and data serialization formats (e.g., JSON, XML).● Experience with frontend development using modern web technologies (HTML, CSS, JavaScript)and frontend frameworks/libraries (e.g., React, Angular).● Proficiency in using tools and libraries for API integration, such as Postman, Swagger, or Axios.● Knowledge of database systems (e.g., SQL, NoSQL) and data modeling concepts.● Familiarity with version control systems (e.g., Git) and agile development methodologies.● Strong problem-solving skills and attention to detail, with the ability to troubleshoot and resolvecomplex integration issues.● Excellent communication and collaboration skills, with the ability to work effectively in across-functional team environment.● Experience with cloud platforms (e.g., AWS, Azure) and containerization technologies (e.g.,Docker) is a plus.● Knowledge of authentication/authorization protocols (e.g., OAuth2, SAML) and experience\\nJoin our innovative travel tech company and contribute to the development ofcutting-edge software solutions. Apply now and help shape the future of traveltechnology through efficient and scalable software solutions.\",\n",
       "   '_id': 'b34736a7-f78f-4da6-a96b-69ee6cc4bbc5',\n",
       "   '_highlights': [{'Description': \"RequirementsQualifications:\\n● Bachelor's degree in Computer Science, Software Engineering, or a related field. Equivalent workexperience may be considered.● Proven experience (3+ years) as a Full Stack Developer, with a focus on API integrations.● Strong proficiency in backend development languages, such as Python, Node.js, or Java, andexperience with backend frameworks (e.g., Django, Express.js).● Solid understanding of RESTful and SOAP APIs, including authentication methods (e.g., OAuth,JWT) and data serialization formats (e.g., JSON, XML).● Experience with frontend development using modern web technologies (HTML, CSS, JavaScript)and frontend frameworks/libraries (e.g., React, Angular).● Proficiency in using tools and libraries for API integration, such as Postman, Swagger, or Axios.● Knowledge of database systems (e.g., SQL, NoSQL) and data modeling concepts.● Familiarity with version control systems (e.g., Git) and agile development methodologies.● Strong problem-solving skills and attention to detail, with the ability to troubleshoot and resolvecomplex integration issues.● Excellent communication and collaboration skills, with the ability to work effectively in across-functional team environment.● Experience with cloud platforms (e.g., AWS, Azure) and containerization technologies (e.g.,Docker) is a plus.● Knowledge of authentication/authorization protocols (e.g., OAuth2, SAML) and experience\\nJoin our innovative travel tech company and contribute to the development ofcutting-edge software solutions.\"}],\n",
       "   '_score': 0.670737388732755},\n",
       "  {'Title': 'Fullstack Engineer',\n",
       "   'Description': \"About FareHarbor\\n\\nAt FareHarbor, our mission is to make experiences better for everyone. Founded in 2013 in Hawaii and acquired by Booking Holdings in 2018, FareHarbor creates powerful tools that enable our clients (think boat rentals, museums, food tours, events and more!) to operate and grow.\\n\\nWith over 20,000 clients across 90+ countries—we’re the largest in our industry and shaping the future of travel, together.\\n\\nOur team is an ‘Ohana of 700+ people around the world. We’re passionate about pioneering an industry, embracing challenges with open arms, and delivering value to the experiences industry.\\n\\nFareHarbor Core Values\\n\\nThink Client FirstWe Are One ‘OhanaBe Curious and LearnOwn It.Act With IntegrityEmbrace the Challenge\\n\\nWhy FareHarbor?\\n\\nFounding FareHarbor required unwavering passion. Turning a start-up into the world’s leading and largest reservation software for tours, activities, and attractions required relentless dedication and vision. To date, we’ve helped over 20,000 global businesses operate successfully and are proud to have played a role in enabling business owners to live their dreams.\\n\\nAnd since day one, we’ve known that our real success lies in our people—the Ohana.\\n\\nWith each new feature launched and new client onboarded, there is a team of incredible people behind the scenes who are full of dedication, passion, energy, and the will to succeed. We encourage everyone to bring their whole selves to work—to believe in their abilities, to freely express their creativity, and to contribute with their own uniqueness by wearing their true colors. We take care of one another and always prioritize health and wellbeing. We give our people the space and trust to learn, to try, to succeed, to collaborate, to think outside of the box, to make mistakes, and even to fail. And then we come together to try again.\\n\\nFrom the minute you join, you have a voice. You find your space. You make an impact. We celebrate our victories, shout our successes, and are always eager to tackle new challenges. And we can’t wait to see all that’s to come.\\n\\nAbout The Role\\n\\nFareHarbor, a Booking.com Company, is looking for a full time, Fullstack Engineer to join our product team. We’re a quickly growing company with a robust product that tens of thousands of people use to run their businesses every day.\\n\\nWhat You’ll Do Here\\n\\nOwn the spec, design, and implementation of features in our large scale, highly dynamic web application.Collaborate with other product team members to gather requirements, refine designs, tackle technical challenges, resolve issues, and launch features.Work across the stack to develop scalable, performant, well-tested solutions.Improve our massive suite of automated tests.Participate in code reviews.\\n\\nRequirements\\n\\nHave 2+ years experience working with a production codebase.Be proficient with JavaScript and/or Python.Have experience working with frameworks like AngularJS and Django.Care about solving problems and doing right by our users.Be able to think holistically from a product standpoint.Be eager to learn whatever necessary to tackle problems head-on.Be passionate about getting things right.Be comfortable with a fast-paced startup environment.Be open to agile development methodologies.\\n\\nWhen Applying\\n\\nIf possible include references to a project you’ve written — a Django project, a Node module, a video game with nifty in-game currency, anything that characterizes the kind of work you like to do.\\n\\nBenefits \\n\\nMedical, dental + vision coverage23 days of PTO + 12 paid holidaysGlobal leave benefit22 weeks paid parental leave 2 weeks paid grandparent leave Extended care and bereavement leaveLife insurance policy 401k + employer matchingSocial hours & events and team-building Educational OpportunitiesIndividual skill development & growth programmingWellness benefits (Headspace subscription & wellness webinars) Work-from-home assistanceHybrid friendlyPaid volunteer hours\\nSalary Range: $144,591-$160,610 plus 15% bonus potential\\n\\nPlease note you must be authorized to work in the United States for this position.\\n\\nRemote - qualified applicants based in U.S. states where FareHarbor is a registered employer are eligible for employment. Our list of registered states is growing, so if you're interested and qualified for the role we encourage you to apply!\\n\\nFareHarbor is committed to creating a diverse environment, and we are an equal opportunity employer. We do not discriminate on the basis of race, color, religion, gender, gender identity, sexual orientation, national origin, disability, age, or veteran status. We welcome talent that can offer us new insights and perspectives on challenges that we face, and we take measures to eliminate unconscious bias throughout the interview and hiring process. In tandem, we work to cultivate an inclusive culture in which all of our employees can be their authentic selves.\\n\\nTo learn more about how we use your information, see our Privacy Statement for Applicants. By submitting your application, you confirm that you understand and agree that your information will be processed in accordance with our Privacy Statement for Applicants.\",\n",
       "   '_id': '94258a15-4b7d-4510-b200-c82308b578e5',\n",
       "   '_highlights': [{'Description': 'Requirements\\n\\nHave 2+ years experience working with a production codebase.Be proficient with JavaScript and/or Python.Have experience working with frameworks like AngularJS and Django.Care about solving problems and doing right by our users.Be able to think holistically from a product standpoint.Be eager to learn whatever necessary to tackle problems head-on.Be passionate about getting things right.Be comfortable with a fast-paced startup environment.Be open to agile development methodologies. When Applying\\n\\nIf possible include references to a project you’ve written — a Django project, a Node module, a video game with nifty in-game currency, anything that characterizes the kind of work you like to do.'}],\n",
       "   '_score': 0.6530968519922615},\n",
       "  {'Title': 'Principal Cloud Security Architect (Remote)',\n",
       "   'Description': 'Job Summary\\nAt iHerb, we are on a mission to make health and wellness accessible to everyone globally through our\\n\\nproducts and platforms. The Infrastructure Engineering team at iHerb focuses on improving our\\n\\ninfrastructure, scalability, performance, reliability, and security of the systems and tools for our technology\\n\\nteams. We provide a wide range of services internally to our teams. Infrastructure Engineering teams\\n\\ncomprises Cloud Operations (CloudOps), Site Reliability Engineering (SRE), Network Engineering\\n\\n(NetEng), and Production Operations (ProdOps).\\n\\nThe Principal Cloud Security Engineer/Architect is developing and implementing an extensive and well\\n\\ndefined cloud security architecture. Ensure that our security standards are meeting and exceeding cloud\\n\\nsecurity best practices. Lead our cloud security strategy, drive remediation with cloud security tooling,\\n\\noptimize cloud architecture and design, and work cross functionally to define new security capabilities.\\n\\nPartner with teams across the organization to deliver company-wide security initiatives, and respond to\\n\\ncurrent and emerging cloud security threats.\\n\\nJob Expectations\\n\\nDefine, build, and maintain cloud security policies, standards, and procedures that meet or\\nexceed all regulatory requirements.\\n\\nImplement commercial and vetted open-source solutions to continuously secure and monitor\\nAWS cloud infrastructure, services, and workloads.\\n\\nCollaborate with multiple teams, to drive remediation of vulnerabilities.Lead cross-functional projects and establish cloud infrastructure security best practices.Research emerging threats, determine applicability, and proactively implement mitigations.Participate and be available on-call for security incident response.Function as a Cloud Security SME, providing guidance on implementation of new cloud security\\ntechnologies and initiatives.\\n\\n\\nKnowledge, Skills And Abilities\\nKnowledge and familiarity with common security frameworks such as NIST CyberSecurity, CIS,\\nand CSA.\\n\\nKnowledge and ability to implement and operationalize the AWS Security Pillar of the AWS Well\\nArchitected Framework.\\n\\nIn-depth experience working with AWS services and securing AWS services such as VPC, EC2,\\nS3, Lambda, Datastore offerings, etc.\\n\\nStrong knowledge of AWS (Amazon Web Services) (preferred), GCP (Google Cloud Platform),\\nAzure (Microsoft), or other cloud platforms and related technologies is strongly desired.\\n\\nExperience with Content Delivery Networks (CDN), Web Application Firewall (WAF), Bot\\nManagement and Distributed Denial of Service (DDOS) tooling.\\n\\nKnowledge of new and emerging attacker tools, tactics and techniques (TTP) that may pose\\nthreats to the organization.\\n\\nExperience with compliance requirements such as PCI, SOX, and GDPR.Understanding of cloud network security design including segmentation, encryption, logging,\\nmonitoring, and remediation.\\n\\nStrong work ethic, including consistent documentation and tracking of work activities.Ability to work in a fast paced, rapidly changing environment with a strong desire to learn.You are a self-starter and require minimal guidance to produce results.Excellent problem solving, critical thinking, collaboration and communication skills.Prioritizes and adjusts tasks to accomplish project results.\\nThe duties and responsibilities described above may provide only a partial description of this position.\\n\\nThis is not an exhaustive list of all aspects of the job. Other duties and responsibilities not outlined in this\\n\\ndocument may be added as necessary or desirable, with or without notice.\\n\\n\\nExperience Requirements\\n8+ years of experience securing enterprise-scale cloud infrastructure, software, and services.\\n\\nEducation Requirements\\n\\nBachelor’s degree in Computer Science, Information Technology, or related field. (Masters preferred)\\n\\nDesired advanced industry certifications AWS Solutions Architect, AWS Security Specialty, CCSP, CKS,\\n\\nor SANS GIAC.\\n\\nThe anticipated pay scale for this position can be found below, however the pay range applicable to you may vary by geographic location based on where the job is located or where you work. The final pay offered to a successful candidate will be dependent on several factors that may include but are not limited to the type and years of experience within the job, the type of years and experience within the industry, education, etc. iHerb, LLC is a multi-state employer and this pay scale may not reflect positions that work in other states or locations.\\n\\nEmployees (and their families) that meet eligibility criteria as outlined in applicable plan documents are eligible to participate in our medical, dental, vision, and basic life insurance programs and may enroll in our company’s 401(k) plan. Employees will also be eligible for Time Off and Paid Sick Leave pursuant to the company’s policies. Employees will enjoy paid holidays throughout the calendar year. Eligibility requirements for these benefits will be controlled by applicable plan documents.\\n\\nHired applicant may be awarded Restrict Stock Units and receive annual bonuses pursuant to eligibility and performance criteria defined in the respective plan documents and policies.\\n\\nFor more information on iHerb benefits, visit us at iHerbBenefits.com.\\n\\nAnticipated Pay Scale\\n\\n$205,956—$275,834 USD\\n\\n\\nStaffing Agency Submission Notice\\niHerb does not accept unsolicited 3rd party (\"Agency\") candidates. If you are an Agency, please send any requests to be considered as a supplier in our Vendor Management System to staffingvendors@iherb.com. Do not contact iHerb employees directly. If requested to work on a role, any Agency candidates would be presented through the internal recruiting organization.\\n\\n\\nAbout IHerb\\niHerb is on a mission to make health and wellness accessible to all. We offer Earth’s best-curated selection of health and wellness products, at the best possible value, delivered with the most convenient experience.\\n\\nWe’re the world’s largest eCommerce platform dedicated to vitamins, minerals, and supplements, and other health and wellness products. For more than 25 years, we’ve been making it simple for people all over the world to purchase the highest quality products. From supplements to skincare to grocery items, we ship over 30,000 products, from over 1,200 brands direct to our customers in 185+ countries.\\n\\nOur vision is to become the #1 destination for health and wellness across the world.\\n\\nWith a passion for wellness and a mind for innovative solutions, iHerb team members share a vision for a healthier world that drives them each day. Our 5 Shared Values unite our global team\\n\\nFocus on the Customer\\n\\n Empower Our People Be Entrepreneurial & Pivot Quickly Embrace Diversity & Inclusion Strive for Simplicity\\n\\nIHerb Benefits\\nAt iHerb, we are dedicated to offering programs designed to help our employees and their families stay healthy, live well, and plan for their financial future. Built on a strong foundation, our programs provide options and upgrades with flexibility, protection, and security in mind. For the comprehensive benefits list, visit www.iHerbBenefits.com. For our international team members, you may be eligible for benefits depending on the country where you are employed. The Talent Acquisition Partner/local HR representative will go over the benefits you are eligible for.\\n\\niHerb is an Equal Opportunity employer. All qualified applicants will receive consideration for employment without regard to race, color, religion, sex, sexual orientation, gender identity, national origin, disability or veteran status. iHerb provides equal employment opportunities to all applicants for employment and prohibits discrimination and harassment.\\n\\n',\n",
       "   '_id': 'dfc950ef-6db0-456a-b6a1-1c05dbf6bf35',\n",
       "   '_highlights': [{'Description': 'Experience Requirements\\n8+ years of experience securing enterprise-scale cloud infrastructure, software, and services. Education Requirements\\n\\nBachelor’s degree in Computer Science, Information Technology, or related field.'}],\n",
       "   '_score': 0.6413243873474967},\n",
       "  {'Title': 'Staff Scientist',\n",
       "   'Description': '\\nResponsibilitiesLooking for a Staff Scientist, Bioinformatics with at least 5 years industry experience who will be responsible for collecting product requirements and designing and developing NGS analysis pipelines to meet those requirements. Proficiency in genomics, sequence analysis, and secondary analysis, such as: variant calling (e.g., SNVs/MNVs/indels, CNV, structural variants), NGS QC.\\nPlease apply at https://www.takarabio.com/about/careers#target-Section5\\nQualificationsThis person will be responsible for evaluating current algorithms and tools and developing a \"best-practice\" set of methods primarily focused on Reproductive Health Technologies. The person will work closely with the assay and marketing teams to develop novel methods. Strong statistical, mathematical and/or analytical skills as demonstrated by experience with R and Python math libraries. Experience in pipeline design and development following standard Software Development Life Cycle practice, including developing appropriate wrappers to provide easy-to-use tools for non-Bioinformaticians.',\n",
       "   '_id': 'a6026b7a-28d6-4f27-a48d-91363683325b',\n",
       "   '_highlights': [{'Description': 'Strong statistical, mathematical and/or analytical skills as demonstrated by experience with R and Python math libraries. Experience in pipeline design and development following standard Software Development Life Cycle practice, including developing appropriate wrappers to provide easy-to-use tools for non-Bioinformaticians.'}],\n",
       "   '_score': 0.63625590343384},\n",
       "  {'Title': 'Business Analyst Sr - Hybrid Nasville',\n",
       "   'Description': 'Duties And Responsibilities\\n\\nBelow is a list of responsibilities that—while not comprehensive—provides an overview of the duties of the Evidence Coordinator within the Office of Evidence and Impact in an interim capacity (through September 30, 2024):\\n\\n Maintain existing data dashboards regarding the evidence base for the state budget through an annual refresh process.  Lead the development of new budget dashboards or views as requested by the OEI deputy director.  Create and execute a plan to scale up the preparation and execution of processes related to the annual collection of outcome data to update agency program inventories, specifically determining the best way to collect and store the data.  Develop and document requirements, design, plan and implement new dashboards/views utilizing department outcome and budget data collected through the program inventory process.  Finalize requirements for a redesign of the public-facing program inventory, develop an action plan and determine resources required, and initiate the redesign (assuming appropriate resources are in place).  Limited data entry to support the activities above, as needed. \\n\\nThe Evidence Coordinator will report directly to the Deputy Director of the Office of Evidence and Impact.\\n\\nSkills And Qualifications\\n\\nThe candidate should have at least a bachelor’s degree with preference toward individuals with a master’s degree and at least two years of work experience. In addition, the candidate should possess the following qualifications:\\n\\nBasic skills and experience wrangling data (additional experience with database design preferred). Experience engaging with customers to develop project requirements for dashboards (additional UI/UX design experience for other types of work products strongly preferred) Experience writing accurate and comprehensive project plans. Intermediate skills and experience with data visualization techniques and software, including Tableau. Experience writing, interpreting, and applying business rules to data. Ability to design and scale excellent operational processes. Strong situational analysis and decision-making abilities.  Ability to think strategically, problem-solve, juggle multiple priorities, and remain attentive to details. Excellent communications skills, including an ability to communicate with a diverse audience (verbally and in writing) that includes both technical and non-technical stakeholders. Demonstrated project management and organizational skills. Ownership of results, with a standard for excellence \\n\\nRequirements\\n\\nType\\n\\nCategory\\n\\nQualification\\n\\nDescription\\n\\nCompetency\\n\\nRequired\\n\\nSkills\\n\\nOthers\\n\\nProject Management\\n\\nDemonstrated project management and organizational skills\\n\\nNovice (1-3 Years)\\n\\nYes\\n\\nSkills\\n\\nOthers\\n\\nProject Planning\\n\\nExperience writing comprehensive project plans\\n\\nNovice (1-3 Years)\\n\\nYes\\n\\nSkills\\n\\nOthers\\n\\nStrategic Thinking\\n\\nStrong situational analysis and decision making abilities; Strategic thinking, problem solving, and juggling priorities\\n\\nNovice (1-3 Years)\\n\\nYes\\n\\nSkills\\n\\nOthers\\n\\nTableau Software\\n\\nExperience with data visualization techniques and software\\n\\nNovice (1-3 Years)\\n\\nYes\\n\\nSkills\\n\\nOthers\\n\\nVerbal Communication\\n\\nNo\\n\\nEducation\\n\\nOthers\\n\\nBachelors Degree\\n\\nYes\\n\\n',\n",
       "   '_id': '80bade7a-fa17-4c2a-bf91-844bb6896079',\n",
       "   '_highlights': [{'Description': 'Intermediate skills and experience with data visualization techniques and software, including Tableau. Experience writing, interpreting, and applying business rules to data.'}],\n",
       "   '_score': 0.6338661520491266},\n",
       "  {'Title': 'Digital Strategist',\n",
       "   'Description': \"The Program partners with the world’s most competitive and innovative brands to develop highly strategic, creative, and technical solutions. We are dedicated to creating meaningful connections between lifestyle brands and people in a collaborative and communicative environment. As a team, we are fueled by the desire to grow and perfect our craft by learning from one another.\\nWe are hiring an experienced Digital Strategist with a technical focus to join our team in Portland, Oregon. With your finger on the pulse of technology and web experiences, you have a deep understanding of the intersection between data, research, user behavior, and design. Best practices for usability and consumer research is second-nature for you, and you’re a data-lover with a knack for developing insights to better understand your users. Your proven track record is indisputable and you’re no stranger to distilling technical concepts into a clear-cut strategy that simplifies the complex. \\nOur Digital Strategists are creative, critical thinkers who ground their ideas in research. You think big and execute small, no matter what the project roadmap looks like, and you're not afraid to fight for the best approach to UX, content strategy, and feature sets.\\nResponsibilitiesExperience working with creative and technical partners having been a member of a multidisciplinary team.Guide project teams on the priority and setup of KPI’s, analyze the data and make recommendationsStrong knowledge of workflows, methods of prototyping and communicating your ideas, and modern design tools like Figma.Functional research skills with deep knowledge of all aspects of digital products and platforms, and their development lifecycles.Establish KPIs and measurement frameworks to guide optimizations, long-term roadmaps, and overall project success.Analyze and synthesize findings from multiple inputs and produce actionable insights to develop personas, journey maps, user stories, and roadmaps that provide clear direction for the path forward.Collaborate with team members in an agile and fast-paced environment to seize the opportunity to make a difference.Communicate at a high level with all project stakeholders, partnering closely with project managers, tech leads, developers, designers, and client partners.Problem solve and ideate using data, design, research, best practices, and consumer insights.Think big, execute small, do both quickly\\nQualifications4+ Years of relevant Strategy experience, with a deep understanding of how strategy impacts web experiences.Strong knowledge of how data, usability, business objectives and more impact your strategies. Proven understanding of user experience, web analytics, content marketing, and performance marketing, and the social landscape.General technical knowledge, you understand what it takes to launch new online platforms, programs, and experiences. Exceptional teamwork and interpersonal skills to collaborate with all team members on a variety of projects.Proven track record of presenting your ideas to client partners and leadership teamsStrong copywriting and customer service skills.Self-starter with proven interpersonal and communication skills.\\nDetailsThis is a hybrid office position. Candidates should be located in or around Portland, Oregon, and are happy to join us in the studio 3+ days per week via a hybrid approach.The salary band for this role is $65,000.00 - $80,000.00.We provide a competitive benefits package that includes paid holidays, vacation/personal time, 401k matching, 401k loans, health, dental, vision, long-term disability, life insurance, paid paternity and maternity leave, and more.Relocation package available if applicable.\\nTo ApplyPlease send us some information about you, your work, and your thoughts on what you could bring to the team, along with the basics (LinkedIn, resume, work samples, social, etc.) that demonstrate some of your abilities. \\n*No recruiters, please.\\nThe Program is an Equal Opportunities Employer. We believe that the best work is produced by a diverse team, each with our own unique backgrounds, experiences, and perspectives. We’re committed to fostering an inclusive and collaborative workplace, where all are welcomed regardless of age, race, ethnicity, ancestry, national origin, religion, gender, sexual orientation, disability, preferences, military or veteran status, ability, or political affiliation.\",\n",
       "   '_id': '3109e022-c6bf-490a-957e-d969acafc2e6',\n",
       "   '_highlights': [{'Description': 'Proven understanding of user experience, web analytics, content marketing, and performance marketing, and the social landscape.General technical knowledge, you understand what it takes to launch new online platforms, programs, and experiences. Exceptional teamwork and interpersonal skills to collaborate with all team members on a variety of projects.Proven track record of presenting your ideas to client partners and leadership teamsStrong copywriting and customer service skills.Self-starter with proven interpersonal and communication skills.'}],\n",
       "   '_score': 0.6312538655669536},\n",
       "  {'Title': 'Insights Analyst - Auto Industry',\n",
       "   'Description': 'Who We Are\\n\\nEscalent is an award-winning data analytics and advisory firm that helps clients understand human and market behaviors to navigate disruption. As catalysts of progress for more than 40 years, our strategies guide the world’s leading brands. We accelerate growth by creating a seamless flow between primary, secondary, syndicated, and internal business data, providing consulting and advisory services from insights through implementation. Based on a profound understanding of what drives human beings and markets, we identify actions that build brands, enhance customer experiences, inspire product innovation and boost business productivity. We listen, learn, question, discover, innovate, and deliver—for each other and our clients—to make the world work better for people.\\n\\nWhy Escalent? Once you join our team you will have the opportunity to...\\n\\nAccess experts across industries for maximum learning opportunities including Weekly Knowledge Sharing Sessions, LinkedIn Learning, and more.Gain exposure to a rich variety of research techniques from knowledgeable professionals.Enjoy a remote first/hybrid work environment with a flexible schedule.Obtain insights into the needs and challenges of your clients—to learn how the world’s leading brands use research.Experience peace of mind working for a company with a commitment to conducting research ethically.Build lasting relationships with fun colleagues in a culture that values each person.\\n\\nRole Overview\\n\\nPeople in the Insights & Consulting roles at Escalent lead the development of insights and storytelling and own the data analysis and reporting phases of our work. We have a development path that encourages continual growth. The progression steps include: Associate, Insights Analyst, Senior Insights Analyst, Insights Manager, Senior Insights Manager, and Director of Insights. There is a parallel path of roles called Project Management that focuses on the project logistics, timing and budget.\\n\\nThe Salary Range for this position is $58,000 - $64,000. If this is not the right range for you, please check out our other openings.\\n\\nInsights & Consulting positions are accountable for:\\n\\nPresenting insights that address the client or industry’s needs.Proper application of analytical techniques & toolsCreating client-ready materials on timeSound process & integrity of insights\\n\\nWhat would you do?\\n\\nYou will work closely with colleagues in Project Management and Sales & Strategic Growth in delivering our solutions in a high-quality manner.\\n\\nYou serve as\\n\\nthe architect of primary data collection processes,the owner of the analytical plan,steward of data quality,framer of the storyline,creator of the deliverables, andbuilder of credibility with our clients\\n\\nResponsibilities\\n\\nContribute to the development of surveys/questionnaires to answer client objectives.Confirm data integrity and perform analysis to identify trends.Continuously monitor quality levels, and manage quality problems.Design research instruments as necessary.Ensure quality of and approve programmed questionnaires, including communication with the programmer or programming vendor.Analyze research results and collaborate with the Client Management team member to interpret research findings and implications.Write headlines for reports or prepare deliverables that adds value to the client by relating the research findings to the business objectives in a manner that is clear, presentable and actionable.\\n\\nBasic Qualifications\\n\\nMust have a Bachelor degree in a related fieldMust have minimum of 2 years experience in business, market analysis, or market researchExperience in the Automotive Industry strong desiredMust have academic and/or practical experience with survey or market research methodologiesMust have ability to recommend research methodologies that address client needs and adhere to budget expectationsMust have above average communication skills, both verbal and writtenMust instill confidence with project team members and client contacts when communicating directly with clientsMust demonstrate strong analytical skills with experience in statistical modeling and analysis preferredMust be able to handle multiple clients and projects simultaneouslyMust be proficient in MS Office (Word, Excel and PowerPoint)Proficiency in at least 1 data analysis package (e.g. SPSS, SAS) requiredIf participating in qualitative studies, ability to travel domestically or internationally may be required\\n\\nPreferred Qualifications\\n\\nAdvanced degreePrior experience supporting market research projects in the industry preferredAdvanced Excel skillsAdvanced SAS skillsPrior experience with qualitative research projects preferred. Prior moderation of focus groups, nice to have\\n\\nCompensation, Benefits, And Culture\\n\\nMedical, Dental, and Vision Insurance - Large carriers on a national level (domestic partner coverage included)401k with Company Match – No vesting period; bi-weekly contributionsFlexible PTO - Feel no guilt in taking off a minimum of 3 weeks of “real” vacation timePaid Parental Leave - 12 weeks for maternity and 6 weeks for paternity, including adoption11 Paid Company HolidaysHybrid/Virtual Work - Virtual-first workforce with employees in most US statesThe Salary Range for this position is $58,000 - $64,000\\n\\nExplore our Careers and Culture page to learn more about the people behind the brand: https://escalent.co/careers-and-culture/\\n\\nEqual Opportunity Employer: All qualified applicants will receive consideration for employment without regard to race, color, sex, sexual orientation, gender identity, religion, national origin, disability, veteran status, age, marital status, pregnancy, genetic information, or other legally protected status\\n\\n',\n",
       "   '_id': '8bd9d033-5b9f-47e4-885d-e1347363cb8b',\n",
       "   '_highlights': [{'Description': 'Once you join our team you will have the opportunity to...\\n\\nAccess experts across industries for maximum learning opportunities including Weekly Knowledge Sharing Sessions, LinkedIn Learning, and more.Gain exposure to a rich variety of research techniques from knowledgeable professionals.Enjoy a remote first/hybrid work environment with a flexible schedule.Obtain insights into the needs and challenges of your clients—to learn how the world’s leading brands use research.Experience peace of mind working for a company with a commitment to conducting research ethically.Build lasting relationships with fun colleagues in a culture that values each person. Role Overview\\n\\nPeople in the Insights & Consulting roles at Escalent lead the development of insights and storytelling and own the data analysis and reporting phases of our work.'}],\n",
       "   '_score': 0.6276495145364833},\n",
       "  {'Title': 'Senior Insights Analyst - Financial Services team',\n",
       "   'Description': 'Who We Are\\n\\nEscalent is an award-winning data analytics and advisory firm that helps clients understand human and market behaviors to navigate disruption. As catalysts of progress for more than 40 years, our strategies guide the world’s leading brands. We accelerate growth by creating a seamless flow between primary, secondary, syndicated, and internal business data, providing consulting and advisory services from insights through implementation. Based on a profound understanding of what drives human beings and markets, we identify actions that build brands, enhance customer experiences, inspire product innovation and boost business productivity. We listen, learn, question, discover, innovate, and deliver—for each other and our clients—to make the world work better for people.\\n\\nWhy Escalent? Once you join our team you will have the opportunity to...\\n\\nAccess experts across industries for maximum learning opportunities including Weekly Knowledge Sharing Sessions, LinkedIn Learning, and more.Gain exposure to a rich variety of research techniques from knowledgeable professionals.Enjoy a remote first/hybrid work environment with a flexible schedule.Obtain insights into the needs and challenges of your clients—to learn how the world’s leading brands use research.Experience peace of mind working for a company with a commitment to conducting research ethically.Build lasting relationships with fun colleagues in a culture that values each person.\\n\\nRole Overview\\n\\nPeople in the Insights & Consulting roles at Escalent lead the development of insights and storytelling and own the data analysis and reporting phases of our work. We have a development path that encourages continual growth. The progression steps include: Associate, Insights Analyst, Senior Insights Analyst, Insights Manager, Senior Insights Manager, and Director of Insights. There is a parallel path of roles called Project Management that focuses on the project logistics, timing and budget.\\n\\nThe Salary Range for this position is $60,000 - $85,000. If this is not the right range for you, please check out our other openings.\\n\\nInsights & Consulting positions are accountable for:\\n\\nPresenting insights that address the client or industry’s needs.Proper application of analytical techniques & toolsCreating client-ready materials on timeSound process & integrity of insights\\n\\nWhat would you do?\\n\\nYou will work closely with colleagues in Project Management and Sales & Strategic Growth in delivering our solutions in a high-quality manner.\\n\\nYou serve as\\n\\nthe architect of primary data collection processes,the owner of the analytical plan,steward of data quality,framer of the storyline,creator of the deliverables, andbuilder of credibility with our clients\\n\\nResponsibilities\\n\\nContribute to the development of surveys/questionnaires to answer client objectives.Confirm data integrity and perform analysis to identify trends.Continuously monitor quality levels, and manage quality problems.Design research instruments as necessary.Ensure quality of and approve programmed questionnaires, including communication with the programmer or programming vendor.Analyze research results and collaborate with the Client Management team member to interpret research findings and implications.Write headlines for reports or prepare deliverables that adds value to the client by relating the research findings to the business objectives in a manner that is clear, presentable and actionable.\\n\\nQualifications\\n\\nMust have a Bachelor degree in a related field. Advanced degree preferred.Must have minimum of 2 years experience in business, market analysis, or market research. Prior experience supporting market research projects in the industry preferred, but not required.Must have academic and/or practical experience with survey or market research methodologies.Must have ability to recommend research methodologies that address client needs and adhere to budget expectations.Must have above average communication skills, both verbal and written.Must instill confidence with project team members and client contacts when communicating directly with clients.Must demonstrate strong analytical skills with experience in statistical modeling and analysis preferred.Must be able to handle multiple clients and projects simultaneously.Must be proficient in MS Office (Word, Excel and PowerPoint).Proficiency in at least 1 data analysis package (e.g. SPSS, SAS) required.Prior experience with qualitative research projects preferred. Prior moderation of focus groups, nice to have.If participating in qualitative studies, ability to travel domestically or internationally may be required.\\n\\nCompensation, Benefits, And Culture\\n\\nMedical, Dental, and Vision Insurance - Large carriers on a national level (domestic partner coverage included)401k with Company Match – No vesting period; bi-weekly contributionsFlexible PTO - Feel no guilt in taking off a minimum of 3 weeks of “real” vacation timePaid Parental Leave - 12 weeks for maternity and 6 weeks for paternity, including adoption11 Paid Company HolidaysHybrid/Virtual Work - Virtual-first workforce with employees in most US statesThe Salary Range for this position is $65,000 - $85,000\\n\\nExplore our Careers and Culture page to learn more about the people behind the brand: https://escalent.co/careers-and-culture/\\n\\nEqual Opportunity Employer: All qualified applicants will receive consideration for employment without regard to race, color, sex, sexual orientation, gender identity, religion, national origin, disability, veteran status, age, marital status, pregnancy, genetic information, or other legally protected status\\n\\n',\n",
       "   '_id': '183fb5c2-a661-4cb8-b583-6d0da0951383',\n",
       "   '_highlights': [{'Description': 'Once you join our team you will have the opportunity to...\\n\\nAccess experts across industries for maximum learning opportunities including Weekly Knowledge Sharing Sessions, LinkedIn Learning, and more.Gain exposure to a rich variety of research techniques from knowledgeable professionals.Enjoy a remote first/hybrid work environment with a flexible schedule.Obtain insights into the needs and challenges of your clients—to learn how the world’s leading brands use research.Experience peace of mind working for a company with a commitment to conducting research ethically.Build lasting relationships with fun colleagues in a culture that values each person. Role Overview\\n\\nPeople in the Insights & Consulting roles at Escalent lead the development of insights and storytelling and own the data analysis and reporting phases of our work.'}],\n",
       "   '_score': 0.6276495145364833},\n",
       "  {'Title': 'Environmental Specialist (E)',\n",
       "   'Description': 'Job description:\\n\\n Basic Function HF Sinclair in Artesia, NM is seeking an Environmental Specialist. This role will conduct environmental assignments and duties for the Environmental Department under limited supervision. May direct or lead the work of others from time to time. Job Duties Ensures compliance with certain federal and state environmental and hazardous materials transportation regulationsInterfaces with operation departments to communicate and define their role in compliance effortsInterfaces with regulatory agencies to ensure the understanding of, and compliance with, all applicable environmental regulations and requirements  May include some or all of the following: Collects data for air quality permits and hazardous waste permitsOversees certain hazardous waste removal projectsOversees refinery risk management program as it relates to various environmental laws and act including the Clean Air Act requirementsOversees certain consent decree programsConducts soil and groundwater samplingsAdministers and coordinate training on Clean Water Act, RCRA, OPA 90 and DOT regulations as requiredInterprets and implements federal, state and local laws regarding issues pertaining to refining and pipelinesCoordinates training for OPA 90 OSHA 1910-120Assesses risk and corrective action technology concerning refinery and pipeline issues    Special assignments or tasks assigned to the employee by their manager, as determined from time to time in their sole and complete discretion Experience A minimum of 3 to 5 years of job-related processing experience is required. Level will be commensurate with the candidate\\'s knowledge, skills, and abilities.   PREFERRED EXPERIENCE: Experience in oil refining processes preferred. Education Level A minimum of a Bachelor\\'s Degree in environmental sciences or a related field is required. In Lieu of Degree equivalent years of experience is required. Required Skills Depending on the candidate\\'s level of experience, ability to lead and train a small group of employees. Certification or the ability to obtain certification for DOT Hazmat Shipping, OSHA Hazmat, and Method 9 Opacity is required. Knowledge of Microsoft products such as Outlook, Word, and Excel is required. Special training in OSHA, HAZMAT, Spill Management, Fire Fighting, Hydrogeology and Geology is desired for some assignments and is required for others. Understanding of oil refining processes is required (process flow diagrams/mechanical flow sheets, chemical phase separations, and reactions). Good reading, presentation; ability to effectively communicate with others, both written and verbal communication, and lead training classes. Ability to perform basic mathematical calculations, advanced level reading and writing skills   PREFERRED SKILLS: Familiarity with community right-to-know and risk management rules and/or experience with fuels compliance preferred. Strong time management and organizational skills preferred. Supervisory/Managerial Responsibility May lead the work of others. Work Conditions Office and petroleum refinery environment based and may require up to 10% travel, by land or air. Subject to all weather conditions, including out of doors and varying road conditions. Occasionally exposed risk of electrical shock during the course of work. Depending on assignment, may be exposed to close confined spaces. Our One HF Sinclair Culture: At HF Sinclair, we are united through our One HF Sinclair Culture, which is underpinned by our five core values of Safety, Integrity, Teamwork, Ownership and Inclusion. Developed to empower our people, our five core cultural values are at the heart of everything we do and extend to how we engage our stakeholders. These values influence our decisions, shape our behaviors and keep us connected across the entire organization. We maintain a true Safety culture for our employees, communities, environments and customers. Our goal is to make sure everyone returns home safely each day. We have a long-standing commitment to Integrity and ethical behavior and do what is right for our employees, investors, communities and the environment. We encourage employees to Step Up and Stand Out by championing a culture of Teamwork and Ownership. We foster a culture of Inclusion by encouraging diversity of experiences, viewpoints and backgrounds. What makes each of us different, together makes us stronger. About HF Sinclair Corporation HF Sinclair Corporation (\"HF Sinclair\"), headquartered in Dallas, Texas, is an independent energy company that produces and markets high value light products such as gasoline, diesel fuel, jet fuel, renewable diesel and other specialty products. HF Sinclair owns and operates refineries located in Kansas, Oklahoma, New Mexico, Wyoming, Washington and Utah and markets its refined products in 19 states principally in the Southwest U.S., the Rocky Mountains extending into the Pacific Northwest and in other neighboring Plains states. HF Sinclair supplies high quality fuels to more than 1,300 Sinclair branded stations and licenses the use of the Sinclair brand at more than 300 additional locations throughout the country. In addition, subsidiaries of HF Sinclair produce and market base oils and other specialized lubricants in the U.S., Canada and the Netherlands, and export products to more than 80 countries. Through its subsidiaries, HF Sinclair produces renewable diesel at two of its facilities in Wyoming. HF Sinclair also owns a 47% limited partner interest and a non-economic general partner interest in Holly Energy Partners, L.P., a master limited partnership that provides petroleum product and crude oil transportation, terminalling, storage and throughput services to the petroleum industry, including HF Sinclair subsidiaries. Equal Opportunity Employer HF Sinclair Corporation is an Equal Opportunity Employer. All qualified applicants will receive consideration for employment without regard to race, color, religion, sex, sexual orientation, gender identity, national origin, age, disability, veteran status or any other prohibited ground of discrimination.',\n",
       "   '_id': '7bf34750-ef38-4907-b28b-4643ba7bce83',\n",
       "   '_highlights': [{'Description': 'Knowledge of Microsoft products such as Outlook, Word, and Excel is required. Special training in OSHA, HAZMAT, Spill Management, Fire Fighting, Hydrogeology and Geology is desired for some assignments and is required for others.'}],\n",
       "   '_score': 0.6275903482721024},\n",
       "  {'Title': 'Presto Admin',\n",
       "   'Description': '8+ years experience with design, deployment, and management of Cloud environments, including AWS or Azure.Experience in managing major Hadoop distributions (Cloudera, Hortonworks), Azure, or other cloud platforms.Experience with leading teams of operations personnel in managing existing cloud or on-prem production systems.At least 2+ years of hands-on experience in a Presto Admin role or equivalent.Proficiency in the administration of PrestoDB, encompassing installation, configuration, security, troubleshooting, and performance enhancement.Experience with leading the migration, architecting, building, and deploying of systems and applications in Cloud platforms.Experience with monitoring, maintenance, and security of critical infrastructure components.Familiarity with various distributed platforms such as Spark, Kafka, and the broader Hadoop Ecosystem.A profound understanding of SQL and the optimization of query performance.Strong grasp of distributed systems architecture and associated concepts.',\n",
       "   '_id': '3084a70d-9eda-4cc7-ac38-8a33d5a5bdf3',\n",
       "   '_highlights': [{'Description': '8+ years experience with design, deployment, and management of Cloud environments, including AWS or Azure.Experience in managing major Hadoop distributions (Cloudera, Hortonworks), Azure, or other cloud platforms.Experience with leading teams of operations personnel in managing existing cloud or on-prem production systems.At least 2+ years of hands-on experience in a Presto Admin role or equivalent.Proficiency in the administration of PrestoDB, encompassing installation, configuration, security, troubleshooting, and performance enhancement.Experience with leading the migration, architecting, building, and deploying of systems and applications in Cloud platforms.Experience with monitoring, maintenance, and security of critical infrastructure components.Familiarity with various distributed platforms such as Spark, Kafka, and the broader Hadoop Ecosystem.A profound understanding of SQL and the optimization of query performance.Strong grasp of distributed systems architecture and associated concepts.'}],\n",
       "   '_score': 0.6266019752668487}],\n",
       " 'query': 'i know how to make web pages, how to use python for data analysis, how to use machine learning, how to access databases, and how to use cloud services',\n",
       " 'limit': 10,\n",
       " 'offset': 0,\n",
       " 'processingTimeMs': 277}"
      ]
     },
     "execution_count": 42,
     "metadata": {},
     "output_type": "execute_result"
    }
   ],
   "source": [
    "search_result = mq.index('test_vector_job_listing').search(\n",
    "    q='i know how to make web pages, how to use python for data analysis, how to use machine learning, how to access databases, and how to use cloud services',\n",
    ")\n",
    "search_result"
   ]
  },
  {
   "cell_type": "code",
   "execution_count": 44,
   "metadata": {},
   "outputs": [
    {
     "data": {
      "text/plain": [
       "{'numberOfDocuments': 205,\n",
       " 'numberOfVectors': 1658,\n",
       " 'backend': {'memoryUsedPercentage': None, 'storageUsedPercentage': None}}"
      ]
     },
     "execution_count": 44,
     "metadata": {},
     "output_type": "execute_result"
    }
   ],
   "source": [
    "results = mq.index('test_vector_job_listing').get_stats()\n",
    "results"
   ]
  }
 ],
 "metadata": {
  "kernelspec": {
   "display_name": "OpenAI",
   "language": "python",
   "name": "python3"
  },
  "language_info": {
   "codemirror_mode": {
    "name": "ipython",
    "version": 3
   },
   "file_extension": ".py",
   "mimetype": "text/x-python",
   "name": "python",
   "nbconvert_exporter": "python",
   "pygments_lexer": "ipython3",
   "version": "3.9.18"
  }
 },
 "nbformat": 4,
 "nbformat_minor": 2
}
