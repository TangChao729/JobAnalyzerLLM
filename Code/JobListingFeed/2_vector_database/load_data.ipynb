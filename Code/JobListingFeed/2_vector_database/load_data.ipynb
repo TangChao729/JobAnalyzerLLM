{
 "cells": [
  {
   "cell_type": "code",
   "execution_count": 45,
   "metadata": {},
   "outputs": [],
   "source": [
    "### Import libraries\n",
    "import pandas as pd\n",
    "import json\n",
    "import marqo\n",
    "\n",
    "# mq = marqo.Client(url='http://192.168.31.45:8882')\n",
    "mq = marqo.Client(url='http://172.214.105.90:8882')"
   ]
  },
  {
   "cell_type": "code",
   "execution_count": 46,
   "metadata": {},
   "outputs": [
    {
     "name": "stdout",
     "output_type": "stream",
     "text": [
      "{'acknowledged': True, 'index': 'kaggle_job_listing'}\n"
     ]
    }
   ],
   "source": [
    "index_name = \"kaggle_job_listing\"\n",
    "print(mq.create_index(index_name))"
   ]
  },
  {
   "cell_type": "code",
   "execution_count": 55,
   "metadata": {},
   "outputs": [
    {
     "name": "stdout",
     "output_type": "stream",
     "text": [
      "{'numberOfDocuments': 128, 'numberOfVectors': 894, 'backend': {'memoryUsedPercentage': 2.24514555994, 'storageUsedPercentage': 28.53126258372}}\n"
     ]
    }
   ],
   "source": [
    "print(mq.get_index(index_name).get_stats())"
   ]
  },
  {
   "cell_type": "code",
   "execution_count": 54,
   "metadata": {},
   "outputs": [
    {
     "name": "stdout",
     "output_type": "stream",
     "text": [
      "{'status': 'green', 'inference': {'status': 'green'}, 'backend': {'status': 'green', 'memoryIsAvailable': True, 'storageIsAvailable': True}}\n"
     ]
    }
   ],
   "source": [
    "print(mq.index(index_name).health())"
   ]
  },
  {
   "cell_type": "code",
   "execution_count": 48,
   "metadata": {},
   "outputs": [],
   "source": [
    "job_dataset_path = '../../../Data/job_listing_kaggle_dataset/job_postings.csv'\n",
    "job_dataset = pd.read_csv(job_dataset_path)"
   ]
  },
  {
   "cell_type": "code",
   "execution_count": 49,
   "metadata": {},
   "outputs": [
    {
     "name": "stderr",
     "output_type": "stream",
     "text": [
      "/var/folders/lp/_76j8yzx3rb5xzlf977qn3gw0000gn/T/ipykernel_31738/2951610173.py:2: FutureWarning: Setting an item of incompatible dtype is deprecated and will raise in a future error of pandas. Value 'Not applicable' has dtype incompatible with float64, please explicitly cast to a compatible dtype first.\n",
      "  job_dataset.fillna('Not applicable', inplace=True)\n"
     ]
    }
   ],
   "source": [
    "# Replace None (NaN in pandas) with the string 'Null'\n",
    "job_dataset.fillna('Not applicable', inplace=True)"
   ]
  },
  {
   "cell_type": "code",
   "execution_count": 50,
   "metadata": {},
   "outputs": [],
   "source": [
    "# into json object, for value of None, convert to string 'Null'\n",
    "job_dataset_json = json.loads(job_dataset.to_json(orient='records'))"
   ]
  },
  {
   "cell_type": "code",
   "execution_count": 52,
   "metadata": {},
   "outputs": [],
   "source": [
    "res_dataset = job_dataset_json[:256]"
   ]
  },
  {
   "cell_type": "code",
   "execution_count": null,
   "metadata": {},
   "outputs": [],
   "source": [
    "results = mq.index(index_name).add_documents(\n",
    "    res_dataset,\n",
    "    tensor_fields=['description'],\n",
    "    client_batch_size=128)\n",
    "\n",
    "print(results)"
   ]
  },
  {
   "cell_type": "code",
   "execution_count": null,
   "metadata": {},
   "outputs": [],
   "source": [
    "search_result = mq.index(index_name).search(\n",
    "    q='i know how to make web pages, how to use python for data analysis, how to use machine learning, how to access databases, and how to use cloud services',\n",
    ")\n",
    "search_result"
   ]
  }
 ],
 "metadata": {
  "kernelspec": {
   "display_name": "OpenAI",
   "language": "python",
   "name": "python3"
  },
  "language_info": {
   "codemirror_mode": {
    "name": "ipython",
    "version": 3
   },
   "file_extension": ".py",
   "mimetype": "text/x-python",
   "name": "python",
   "nbconvert_exporter": "python",
   "pygments_lexer": "ipython3",
   "version": "3.9.18"
  }
 },
 "nbformat": 4,
 "nbformat_minor": 2
}
