{
 "cells": [
  {
   "cell_type": "markdown",
   "metadata": {},
   "source": [
    "### Marqo is pulled and ran at local docker"
   ]
  },
  {
   "cell_type": "code",
   "execution_count": 4,
   "metadata": {},
   "outputs": [
    {
     "name": "stdout",
     "output_type": "stream",
     "text": [
      "{'acknowledged': True, 'index': 'my-first-index'}\n"
     ]
    }
   ],
   "source": [
    "import marqo\n",
    "\n",
    "# mq = marqo.Client(url='http://192.168.31.45:8882')\n",
    "mq = marqo.Client(url='http://172.214.105.90:8882')\n",
    "\n",
    "# print(mq.index(\"kaggle_job_listing\").get_stats())\n",
    "\n",
    "\n",
    "print(mq.create_index(\"my-first-index\", model=\"hf/all_datasets_v4_MiniLM-L6\"))\n",
    "\n",
    "# mq.index(\"my-first-index\").add_documents([\n",
    "#     {\n",
    "#         \"Title\": \"The Travels of Marco Polo\",\n",
    "#         \"Description\": \"A 13th-century travelogue describing Polo's travels\"\n",
    "#     }, \n",
    "#     {\n",
    "#         \"Title\": \"Extravehicular Mobility Unit (EMU)\",\n",
    "#         \"Description\": \"The EMU is a spacesuit that provides environmental protection, \"\n",
    "#                        \"mobility, life support, and communications for astronauts\",\n",
    "#         \"_id\": \"article_591\"\n",
    "#     }],\n",
    "#     tensor_fields=[\"Description\"]\n",
    "# )\n",
    "\n",
    "# results = mq.index(\"my-first-index\").search(\n",
    "#     q=\"What is the best outfit to wear on the moon?\"\n",
    "# )\n"
   ]
  }
 ],
 "metadata": {
  "kernelspec": {
   "display_name": "OpenAI",
   "language": "python",
   "name": "python3"
  },
  "language_info": {
   "codemirror_mode": {
    "name": "ipython",
    "version": 3
   },
   "file_extension": ".py",
   "mimetype": "text/x-python",
   "name": "python",
   "nbconvert_exporter": "python",
   "pygments_lexer": "ipython3",
   "version": "3.9.18"
  }
 },
 "nbformat": 4,
 "nbformat_minor": 2
}
