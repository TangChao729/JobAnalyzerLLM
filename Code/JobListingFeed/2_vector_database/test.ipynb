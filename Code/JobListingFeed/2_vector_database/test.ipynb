{
 "cells": [
  {
   "cell_type": "markdown",
   "metadata": {},
   "source": [
    "### Marqo is pulled and ran at local docker"
   ]
  },
  {
   "cell_type": "code",
   "execution_count": 2,
   "metadata": {},
   "outputs": [
    {
     "ename": "MarqoWebError",
     "evalue": "MarqoWebError: MarqoWebError Error message: {'message': 'Index kaggle_job_listing not found', 'code': 'index_not_found', 'type': 'invalid_request', 'link': None}\nstatus_code: 404, type: invalid_request, code: index_not_found, link: ",
     "output_type": "error",
     "traceback": [
      "\u001b[0;31m---------------------------------------------------------------------------\u001b[0m",
      "\u001b[0;31mHTTPError\u001b[0m                                 Traceback (most recent call last)",
      "File \u001b[0;32m/opt/homebrew/anaconda3/envs/OpenAI/lib/python3.9/site-packages/marqo/_httprequests.py:148\u001b[0m, in \u001b[0;36mHttpRequests._validate\u001b[0;34m(request)\u001b[0m\n\u001b[1;32m    147\u001b[0m \u001b[38;5;28;01mtry\u001b[39;00m:\n\u001b[0;32m--> 148\u001b[0m     \u001b[43mrequest\u001b[49m\u001b[38;5;241;43m.\u001b[39;49m\u001b[43mraise_for_status\u001b[49m\u001b[43m(\u001b[49m\u001b[43m)\u001b[49m\n\u001b[1;32m    149\u001b[0m     \u001b[38;5;28;01mreturn\u001b[39;00m HttpRequests\u001b[38;5;241m.\u001b[39m__to_json(request)\n",
      "File \u001b[0;32m/opt/homebrew/anaconda3/envs/OpenAI/lib/python3.9/site-packages/requests/models.py:1021\u001b[0m, in \u001b[0;36mResponse.raise_for_status\u001b[0;34m(self)\u001b[0m\n\u001b[1;32m   1020\u001b[0m \u001b[38;5;28;01mif\u001b[39;00m http_error_msg:\n\u001b[0;32m-> 1021\u001b[0m     \u001b[38;5;28;01mraise\u001b[39;00m HTTPError(http_error_msg, response\u001b[38;5;241m=\u001b[39m\u001b[38;5;28mself\u001b[39m)\n",
      "\u001b[0;31mHTTPError\u001b[0m: 404 Client Error: Not Found for url: http://192.168.31.45:8882/indexes/kaggle_job_listing/stats",
      "\nThe above exception was the direct cause of the following exception:\n",
      "\u001b[0;31mMarqoWebError\u001b[0m                             Traceback (most recent call last)",
      "Cell \u001b[0;32mIn[2], line 5\u001b[0m\n\u001b[1;32m      1\u001b[0m \u001b[38;5;28;01mimport\u001b[39;00m \u001b[38;5;21;01mmarqo\u001b[39;00m\n\u001b[1;32m      3\u001b[0m mq \u001b[38;5;241m=\u001b[39m marqo\u001b[38;5;241m.\u001b[39mClient(url\u001b[38;5;241m=\u001b[39m\u001b[38;5;124m'\u001b[39m\u001b[38;5;124mhttp://192.168.31.45:8882\u001b[39m\u001b[38;5;124m'\u001b[39m)\n\u001b[0;32m----> 5\u001b[0m \u001b[38;5;28mprint\u001b[39m(\u001b[43mmq\u001b[49m\u001b[38;5;241;43m.\u001b[39;49m\u001b[43mindex\u001b[49m\u001b[43m(\u001b[49m\u001b[38;5;124;43m\"\u001b[39;49m\u001b[38;5;124;43mkaggle_job_listing\u001b[39;49m\u001b[38;5;124;43m\"\u001b[39;49m\u001b[43m)\u001b[49m\u001b[38;5;241;43m.\u001b[39;49m\u001b[43mget_stats\u001b[49m\u001b[43m(\u001b[49m\u001b[43m)\u001b[49m)\n",
      "File \u001b[0;32m/opt/homebrew/anaconda3/envs/OpenAI/lib/python3.9/site-packages/marqo/index.py:720\u001b[0m, in \u001b[0;36mIndex.get_stats\u001b[0;34m(self)\u001b[0m\n\u001b[1;32m    718\u001b[0m \u001b[38;5;28;01mdef\u001b[39;00m \u001b[38;5;21mget_stats\u001b[39m(\u001b[38;5;28mself\u001b[39m) \u001b[38;5;241m-\u001b[39m\u001b[38;5;241m>\u001b[39m Dict[\u001b[38;5;28mstr\u001b[39m, Any]:\n\u001b[1;32m    719\u001b[0m \u001b[38;5;250m    \u001b[39m\u001b[38;5;124;03m\"\"\"Get stats about the index\"\"\"\u001b[39;00m\n\u001b[0;32m--> 720\u001b[0m     \u001b[38;5;28;01mreturn\u001b[39;00m \u001b[38;5;28;43mself\u001b[39;49m\u001b[38;5;241;43m.\u001b[39;49m\u001b[43mhttp\u001b[49m\u001b[38;5;241;43m.\u001b[39;49m\u001b[43mget\u001b[49m\u001b[43m(\u001b[49m\u001b[43mpath\u001b[49m\u001b[38;5;241;43m=\u001b[39;49m\u001b[38;5;124;43mf\u001b[39;49m\u001b[38;5;124;43m\"\u001b[39;49m\u001b[38;5;124;43mindexes/\u001b[39;49m\u001b[38;5;132;43;01m{\u001b[39;49;00m\u001b[38;5;28;43mself\u001b[39;49m\u001b[38;5;241;43m.\u001b[39;49m\u001b[43mindex_name\u001b[49m\u001b[38;5;132;43;01m}\u001b[39;49;00m\u001b[38;5;124;43m/stats\u001b[39;49m\u001b[38;5;124;43m\"\u001b[39;49m\u001b[43m,\u001b[49m\u001b[43m \u001b[49m\u001b[43mindex_name\u001b[49m\u001b[38;5;241;43m=\u001b[39;49m\u001b[38;5;28;43mself\u001b[39;49m\u001b[38;5;241;43m.\u001b[39;49m\u001b[43mindex_name\u001b[49m\u001b[43m,\u001b[49m\u001b[43m \u001b[49m\u001b[43m)\u001b[49m\n",
      "File \u001b[0;32m/opt/homebrew/anaconda3/envs/OpenAI/lib/python3.9/site-packages/marqo/_httprequests.py:92\u001b[0m, in \u001b[0;36mHttpRequests.get\u001b[0;34m(self, path, body, index_name)\u001b[0m\n\u001b[1;32m     90\u001b[0m \u001b[38;5;28;01mif\u001b[39;00m body \u001b[38;5;129;01mis\u001b[39;00m \u001b[38;5;129;01mnot\u001b[39;00m \u001b[38;5;28;01mNone\u001b[39;00m:\n\u001b[1;32m     91\u001b[0m     content_type \u001b[38;5;241m=\u001b[39m \u001b[38;5;124m'\u001b[39m\u001b[38;5;124mapplication/json\u001b[39m\u001b[38;5;124m'\u001b[39m\n\u001b[0;32m---> 92\u001b[0m \u001b[38;5;28;01mreturn\u001b[39;00m \u001b[38;5;28;43mself\u001b[39;49m\u001b[38;5;241;43m.\u001b[39;49m\u001b[43msend_request\u001b[49m\u001b[43m(\u001b[49m\u001b[38;5;124;43m'\u001b[39;49m\u001b[38;5;124;43mget\u001b[39;49m\u001b[38;5;124;43m'\u001b[39;49m\u001b[43m,\u001b[49m\u001b[43m \u001b[49m\u001b[43mpath\u001b[49m\u001b[38;5;241;43m=\u001b[39;49m\u001b[43mpath\u001b[49m\u001b[43m,\u001b[49m\u001b[43m \u001b[49m\u001b[43mbody\u001b[49m\u001b[38;5;241;43m=\u001b[39;49m\u001b[43mbody\u001b[49m\u001b[43m,\u001b[49m\u001b[43m \u001b[49m\u001b[43mcontent_type\u001b[49m\u001b[38;5;241;43m=\u001b[39;49m\u001b[43mcontent_type\u001b[49m\u001b[43m,\u001b[49m\u001b[43mindex_name\u001b[49m\u001b[38;5;241;43m=\u001b[39;49m\u001b[43mindex_name\u001b[49m\u001b[43m)\u001b[49m\n",
      "File \u001b[0;32m/opt/homebrew/anaconda3/envs/OpenAI/lib/python3.9/site-packages/marqo/_httprequests.py:75\u001b[0m, in \u001b[0;36mHttpRequests.send_request\u001b[0;34m(self, http_operation, path, body, content_type, index_name)\u001b[0m\n\u001b[1;32m     67\u001b[0m \u001b[38;5;28;01mtry\u001b[39;00m:\n\u001b[1;32m     68\u001b[0m     response \u001b[38;5;241m=\u001b[39m \u001b[38;5;28mself\u001b[39m\u001b[38;5;241m.\u001b[39m_operation(http_operation)(\n\u001b[1;32m     69\u001b[0m         url\u001b[38;5;241m=\u001b[39m\u001b[38;5;28mself\u001b[39m\u001b[38;5;241m.\u001b[39m_construct_path(path, index_name),\n\u001b[1;32m     70\u001b[0m         timeout\u001b[38;5;241m=\u001b[39m\u001b[38;5;28mself\u001b[39m\u001b[38;5;241m.\u001b[39mconfig\u001b[38;5;241m.\u001b[39mtimeout,\n\u001b[0;32m   (...)\u001b[0m\n\u001b[1;32m     73\u001b[0m         verify\u001b[38;5;241m=\u001b[39m\u001b[38;5;28;01mTrue\u001b[39;00m\n\u001b[1;32m     74\u001b[0m     )\n\u001b[0;32m---> 75\u001b[0m     \u001b[38;5;28;01mreturn\u001b[39;00m \u001b[38;5;28;43mself\u001b[39;49m\u001b[38;5;241;43m.\u001b[39;49m\u001b[43m_validate\u001b[49m\u001b[43m(\u001b[49m\u001b[43mresponse\u001b[49m\u001b[43m)\u001b[49m\n\u001b[1;32m     76\u001b[0m \u001b[38;5;28;01mexcept\u001b[39;00m requests\u001b[38;5;241m.\u001b[39mexceptions\u001b[38;5;241m.\u001b[39mTimeout \u001b[38;5;28;01mas\u001b[39;00m err:\n\u001b[1;32m     77\u001b[0m     \u001b[38;5;28;01mraise\u001b[39;00m BackendTimeoutError(\u001b[38;5;28mstr\u001b[39m(err)) \u001b[38;5;28;01mfrom\u001b[39;00m \u001b[38;5;21;01merr\u001b[39;00m\n",
      "File \u001b[0;32m/opt/homebrew/anaconda3/envs/OpenAI/lib/python3.9/site-packages/marqo/_httprequests.py:151\u001b[0m, in \u001b[0;36mHttpRequests._validate\u001b[0;34m(request)\u001b[0m\n\u001b[1;32m    149\u001b[0m     \u001b[38;5;28;01mreturn\u001b[39;00m HttpRequests\u001b[38;5;241m.\u001b[39m__to_json(request)\n\u001b[1;32m    150\u001b[0m \u001b[38;5;28;01mexcept\u001b[39;00m requests\u001b[38;5;241m.\u001b[39mexceptions\u001b[38;5;241m.\u001b[39mHTTPError \u001b[38;5;28;01mas\u001b[39;00m err:\n\u001b[0;32m--> 151\u001b[0m     \u001b[43mconvert_to_marqo_error_and_raise\u001b[49m\u001b[43m(\u001b[49m\u001b[43mresponse\u001b[49m\u001b[38;5;241;43m=\u001b[39;49m\u001b[43mrequest\u001b[49m\u001b[43m,\u001b[49m\u001b[43m \u001b[49m\u001b[43merr\u001b[49m\u001b[38;5;241;43m=\u001b[39;49m\u001b[43merr\u001b[49m\u001b[43m)\u001b[49m\n",
      "File \u001b[0;32m/opt/homebrew/anaconda3/envs/OpenAI/lib/python3.9/site-packages/marqo/_httprequests.py:165\u001b[0m, in \u001b[0;36mconvert_to_marqo_error_and_raise\u001b[0;34m(response, err)\u001b[0m\n\u001b[1;32m    162\u001b[0m     code \u001b[38;5;241m=\u001b[39m \u001b[38;5;124m\"\u001b[39m\u001b[38;5;124munhandled_error\u001b[39m\u001b[38;5;124m\"\u001b[39m\n\u001b[1;32m    163\u001b[0m     error_type \u001b[38;5;241m=\u001b[39m \u001b[38;5;124m\"\u001b[39m\u001b[38;5;124munhandled_error_type\u001b[39m\u001b[38;5;124m\"\u001b[39m\n\u001b[0;32m--> 165\u001b[0m \u001b[38;5;28;01mraise\u001b[39;00m MarqoWebError(message\u001b[38;5;241m=\u001b[39mresponse_msg, code\u001b[38;5;241m=\u001b[39mcode, error_type\u001b[38;5;241m=\u001b[39merror_type,\n\u001b[1;32m    166\u001b[0m     status_code\u001b[38;5;241m=\u001b[39mresponse\u001b[38;5;241m.\u001b[39mstatus_code) \u001b[38;5;28;01mfrom\u001b[39;00m \u001b[38;5;21;01merr\u001b[39;00m\n",
      "\u001b[0;31mMarqoWebError\u001b[0m: MarqoWebError: MarqoWebError Error message: {'message': 'Index kaggle_job_listing not found', 'code': 'index_not_found', 'type': 'invalid_request', 'link': None}\nstatus_code: 404, type: invalid_request, code: index_not_found, link: "
     ]
    }
   ],
   "source": [
    "import marqo\n",
    "\n",
    "mq = marqo.Client(url='http://192.168.31.45:8882')\n",
    "\n",
    "print(mq.index(\"kaggle_job_listing\").get_stats())\n",
    "\n",
    "\n",
    "# mq.create_index(\"my-first-index\", model=\"hf/all_datasets_v4_MiniLM-L6\")\n",
    "\n",
    "# mq.index(\"my-first-index\").add_documents([\n",
    "#     {\n",
    "#         \"Title\": \"The Travels of Marco Polo\",\n",
    "#         \"Description\": \"A 13th-century travelogue describing Polo's travels\"\n",
    "#     }, \n",
    "#     {\n",
    "#         \"Title\": \"Extravehicular Mobility Unit (EMU)\",\n",
    "#         \"Description\": \"The EMU is a spacesuit that provides environmental protection, \"\n",
    "#                        \"mobility, life support, and communications for astronauts\",\n",
    "#         \"_id\": \"article_591\"\n",
    "#     }],\n",
    "#     tensor_fields=[\"Description\"]\n",
    "# )\n",
    "\n",
    "# results = mq.index(\"my-first-index\").search(\n",
    "#     q=\"What is the best outfit to wear on the moon?\"\n",
    "# )\n"
   ]
  },
  {
   "cell_type": "code",
   "execution_count": 4,
   "metadata": {},
   "outputs": [
    {
     "data": {
      "text/plain": [
       "{'hits': [{'Title': 'Extravehicular Mobility Unit (EMU)',\n",
       "   'Description': 'The EMU is a spacesuit that provides environmental protection, mobility, life support, and communications for astronauts',\n",
       "   '_id': 'article_591',\n",
       "   '_highlights': [{'Description': 'The EMU is a spacesuit that provides environmental protection, mobility, life support, and communications for astronauts'}],\n",
       "   '_score': 0.5677878507655333},\n",
       "  {'Title': 'The Travels of Marco Polo',\n",
       "   'Description': \"A 13th-century travelogue describing Polo's travels\",\n",
       "   '_id': '50ed19d8-212b-48d8-8099-f13c59394ded',\n",
       "   '_highlights': [{'Description': \"A 13th-century travelogue describing Polo's travels\"}],\n",
       "   '_score': 0.5467896410949249}],\n",
       " 'query': 'What is the best outfit to wear on the moon?',\n",
       " 'limit': 10,\n",
       " 'offset': 0,\n",
       " 'processingTimeMs': 64}"
      ]
     },
     "execution_count": 4,
     "metadata": {},
     "output_type": "execute_result"
    }
   ],
   "source": [
    "results"
   ]
  }
 ],
 "metadata": {
  "kernelspec": {
   "display_name": "OpenAI",
   "language": "python",
   "name": "python3"
  },
  "language_info": {
   "codemirror_mode": {
    "name": "ipython",
    "version": 3
   },
   "file_extension": ".py",
   "mimetype": "text/x-python",
   "name": "python",
   "nbconvert_exporter": "python",
   "pygments_lexer": "ipython3",
   "version": "3.9.18"
  }
 },
 "nbformat": 4,
 "nbformat_minor": 2
}
