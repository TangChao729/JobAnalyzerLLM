{
 "cells": [
  {
   "cell_type": "code",
   "execution_count": null,
   "metadata": {},
   "outputs": [],
   "source": [
    "# Steps of the job crawler component\n",
    "\n",
    "'''\n",
    "Input: Job title keywords, location keywords, more to add in the future\n",
    "\n",
    "Output: A list of job postings feeds, format to be determined\n",
    "\n",
    "Site to visit: Seek, Indeed, LinkedIn, Glassdoor, GradConnection\n",
    "\n",
    "API to check, if not available, use web crawler\n",
    "\n",
    "10 jobs per site, 50 jobs in total for preliminary version\n",
    "\n",
    "after getting the job feeds, we need to clean the data and store it in a database\n",
    "\n",
    "clean:\n",
    "    remove duplicates (a job may be posted on multiple sites)\n",
    "    remove unrelated jobs (feed may contain jobs that are not related to the keywords, we need a classifier)\n",
    "    put the feed into a suitable format (json, with fields like title, company, location, description, url, etc.)\n",
    "\n",
    "store:\n",
    "    store the feed in a txt file in preliminary version\n",
    "\n",
    "At end of the program, it should consolidate all the feeds and store them in jason format, report with number of jobs found, \n",
    "and save the feeds in a txt file\n",
    "\n",
    "'''"
   ]
  },
  {
   "cell_type": "code",
   "execution_count": null,
   "metadata": {},
   "outputs": [],
   "source": [
    "### Import libraries"
   ]
  },
  {
   "cell_type": "code",
   "execution_count": 1,
   "metadata": {},
   "outputs": [
    {
     "name": "stdout",
     "output_type": "stream",
     "text": [
      "14\n"
     ]
    }
   ],
   "source": []
  }
 ],
 "metadata": {
  "kernelspec": {
   "display_name": "OpenAI",
   "language": "python",
   "name": "python3"
  },
  "language_info": {
   "codemirror_mode": {
    "name": "ipython",
    "version": 3
   },
   "file_extension": ".py",
   "mimetype": "text/x-python",
   "name": "python",
   "nbconvert_exporter": "python",
   "pygments_lexer": "ipython3",
   "version": "3.9.18"
  }
 },
 "nbformat": 4,
 "nbformat_minor": 2
}
